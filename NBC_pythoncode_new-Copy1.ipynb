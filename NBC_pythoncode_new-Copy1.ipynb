{
 "cells": [
  {
   "cell_type": "code",
   "execution_count": 1,
   "metadata": {},
   "outputs": [],
   "source": [
    "import pandas as pd\n",
    "from datetime import datetime\n",
    "import numpy as np"
   ]
  },
  {
   "cell_type": "code",
   "execution_count": 2,
   "metadata": {},
   "outputs": [],
   "source": [
    "NBC_df = pd.read_excel(r'C:\\Users\\bhavrang\\Desktop\\bhavya\\Analytics\\NBC_data_jan_aug.xlsx')"
   ]
  },
  {
   "cell_type": "code",
   "execution_count": 3,
   "metadata": {},
   "outputs": [],
   "source": [
    "CURRENCY_DM_MAP_DF=pd.read_excel(r'C:\\Users\\bhavrang\\Desktop\\bhavya\\Analytics\\DM_ID_MAPPING.xlsx',sheet_name='currency_mapping')\n",
    "DEVICE_DM_MAP_DF=pd.read_excel(r'C:\\Users\\bhavrang\\Desktop\\bhavya\\Analytics\\DM_ID_MAPPING.xlsx',sheet_name='device_mapping')"
   ]
  },
  {
   "cell_type": "code",
   "execution_count": 4,
   "metadata": {},
   "outputs": [],
   "source": [
    "#DEVICE_DM_MAP_DF.dtypes\n",
    "DEVICE_DM_MAP_DF['DEVICE_DM_ID']=DEVICE_DM_MAP_DF['DEVICE_DM_ID'].astype(str)"
   ]
  },
  {
   "cell_type": "code",
   "execution_count": 5,
   "metadata": {},
   "outputs": [],
   "source": [
    "#CURRENCY_DM_MAP_DF.dtypes\n",
    "CURRENCY_DM_MAP_DF['CURRENCY_DM_ID']=CURRENCY_DM_MAP_DF['CURRENCY_DM_ID'].astype(str)"
   ]
  },
  {
   "cell_type": "code",
   "execution_count": 6,
   "metadata": {},
   "outputs": [],
   "source": [
    "df=NBC_df\n",
    "# to drop all 'DT_DM_ID' columns\n",
    "li=[]\n",
    "for i in df:\n",
    "    if ('DT_DM_ID' in i):\n",
    "        li.append(i)\n",
    "df.drop(df[li],axis =1,inplace=True)"
   ]
  },
  {
   "cell_type": "code",
   "execution_count": 7,
   "metadata": {},
   "outputs": [],
   "source": [
    "#to split summary description column to 2 new fields as subscription start date and end date. \n",
    "#two more fields are added to dataframe.\n",
    "summary=df['SUMMARY_DESC'].str.split('for',expand=True)\n",
    "timedf=summary[1].str.split('-',expand=True)\n",
    "df['SUB_ST_DT']=timedf[0]\n",
    "df['SUB_END_DT']=timedf[1]\n",
    "df['NEW_SUMMARY_DESC']=summary[0]"
   ]
  },
  {
   "cell_type": "code",
   "execution_count": 8,
   "metadata": {},
   "outputs": [],
   "source": [
    "#to convert invalid promocode values to 'INVALID'\n",
    "df['PROMO_CODE']=df['PROMO_CODE'].apply(lambda x: 'INVALID' if (type(x)!=str) else x)"
   ]
  },
  {
   "cell_type": "code",
   "execution_count": 9,
   "metadata": {},
   "outputs": [],
   "source": [
    "list_str_op=['AUTO_RENEW_STATUS','DATA_SOURCE_STATUS','DEL_IND','PAYMENT_SOURCE_TYPE','CREATED_BY','RENEW_IND','SUSCRIPTION_STATUS','TAX_COUNTRY','WINBACK_IND','TAX_STATE','PROMO_CODE','EXPERIENCE_ID','LAST_UPD_BY','SPORT_SEASON_DM_ID','CAMPAIGN_DM_ID','BILL_ZIP_CD','DEVICE_DM_ID']\n",
    "list_cnv_op=['BATCH_ID','CURRENCY_DM_ID','GOLD_SUBSCRIPTION_ID','SPORT_DM_ID','USER_DM_ID','DEVICE_DM_ID']\n",
    "list_re_zero=['TAX_AMT','TAX_RATE','TAX_REF_AMT','TOTAL_TP_FEES_AMT']\n"
   ]
  },
  {
   "cell_type": "code",
   "execution_count": 10,
   "metadata": {},
   "outputs": [],
   "source": [
    "# function to apply string operations\n",
    "def str_op(list):\n",
    "    for i in list:\n",
    "        df[i]=df[i].apply(lambda x: str(x).strip().upper())\n",
    "        "
   ]
  },
  {
   "cell_type": "code",
   "execution_count": 11,
   "metadata": {},
   "outputs": [],
   "source": [
    "#function to apply conversion operations\n",
    "def cnv_op(list):\n",
    "    for i in list:\n",
    "        df[i]=df[i].astype(str)"
   ]
  },
  {
   "cell_type": "code",
   "execution_count": 12,
   "metadata": {},
   "outputs": [
    {
     "data": {
      "text/plain": [
       "(367844, 48)"
      ]
     },
     "execution_count": 12,
     "metadata": {},
     "output_type": "execute_result"
    }
   ],
   "source": [
    "df.shape"
   ]
  },
  {
   "cell_type": "code",
   "execution_count": 13,
   "metadata": {},
   "outputs": [],
   "source": [
    "# function to replace \"?\" with 0\n",
    "def rep_zero(list):\n",
    "    for i in list:\n",
    "        df[i].replace(to_replace='^ ?',value=0,regex=True,inplace=True) "
   ]
  },
  {
   "cell_type": "code",
   "execution_count": 14,
   "metadata": {},
   "outputs": [],
   "source": [
    "str_op(list_str_op)"
   ]
  },
  {
   "cell_type": "code",
   "execution_count": 15,
   "metadata": {},
   "outputs": [],
   "source": [
    "cnv_op(list_cnv_op)"
   ]
  },
  {
   "cell_type": "code",
   "execution_count": 16,
   "metadata": {},
   "outputs": [],
   "source": [
    "rep_zero(list_re_zero)"
   ]
  },
  {
   "cell_type": "code",
   "execution_count": 17,
   "metadata": {},
   "outputs": [],
   "source": [
    "#to map device_dm_id with respective values and replace others as invalid.New column DEVICE_NM is added to df\n",
    "df=pd.merge(df,DEVICE_DM_MAP_DF,how='left',on='DEVICE_DM_ID')\n",
    "df['DEVICE_NM'].fillna('INVALID',inplace=True)\n",
    "df['DEVICE_NM']=df['DEVICE_NM'].apply(lambda x: str(x).strip().upper())"
   ]
  },
  {
   "cell_type": "code",
   "execution_count": 18,
   "metadata": {},
   "outputs": [],
   "source": [
    "#to map currency_dm_id with respective values and replace others as invalid.new column Currency_NM is added to df\n",
    "df=pd.merge(df,CURRENCY_DM_MAP_DF[['CURRENCY_DM_ID','CURRENCY_NM']],how='left',on='CURRENCY_DM_ID')\n",
    "df['CURRENCY_NM'].fillna('INVALID',inplace=True)\n",
    "df['CURRENCY_NM']=df['CURRENCY_NM'].apply(lambda x: str(x).strip().upper())"
   ]
  },
  {
   "cell_type": "code",
   "execution_count": 19,
   "metadata": {},
   "outputs": [],
   "source": [
    "df['CAMPAIGN_DM_ID'].replace(to_replace='?',value='NULL',inplace=True) \n",
    "df['CAMPAIGN_DM_ID'].replace(to_replace='-1',value='UNMAPPED',inplace=True) "
   ]
  },
  {
   "cell_type": "code",
   "execution_count": 20,
   "metadata": {},
   "outputs": [],
   "source": [
    "df['PROMO_CODE'].replace(to_replace='?',value='NOT APPLICABLE',inplace=True) "
   ]
  },
  {
   "cell_type": "code",
   "execution_count": 21,
   "metadata": {},
   "outputs": [],
   "source": [
    "df['PAYMENT_SOURCE_TYPE'].replace(to_replace='?',value='NOT KNOWN',inplace=True) "
   ]
  },
  {
   "cell_type": "code",
   "execution_count": 22,
   "metadata": {},
   "outputs": [],
   "source": [
    "df['TAX_COUNTRY'].replace(to_replace='?',value='NOT KNOWN',inplace=True) "
   ]
  },
  {
   "cell_type": "code",
   "execution_count": 23,
   "metadata": {},
   "outputs": [],
   "source": [
    "df['TAX_STATE'].replace(to_replace='?',value='NOT KNOWN',inplace=True) "
   ]
  },
  {
   "cell_type": "code",
   "execution_count": 24,
   "metadata": {},
   "outputs": [],
   "source": [
    "df['WINBACK_IND'].replace(to_replace='?',value='NEW USER',inplace=True) "
   ]
  },
  {
   "cell_type": "code",
   "execution_count": 25,
   "metadata": {},
   "outputs": [],
   "source": [
    "df['BILL_ZIP_CD'].replace(to_replace='?',value='NOT KNOWN',inplace=True) "
   ]
  },
  {
   "cell_type": "code",
   "execution_count": 26,
   "metadata": {},
   "outputs": [],
   "source": [
    "del_li=['DEL_IND','EXPERIENCE_ID','LAST_UPD_BY','LAST_UPD_DT_TIME','SUMMARY_DESC']\n",
    "df.drop(df[del_li],axis =1,inplace=True)"
   ]
  },
  {
   "cell_type": "code",
   "execution_count": 27,
   "metadata": {},
   "outputs": [
    {
     "data": {
      "text/plain": [
       "355266"
      ]
     },
     "execution_count": 27,
     "metadata": {},
     "output_type": "execute_result"
    }
   ],
   "source": [
    "len(df.SUBSCRIPTION_ID.unique())"
   ]
  },
  {
   "cell_type": "code",
   "execution_count": 27,
   "metadata": {},
   "outputs": [],
   "source": [
    "df.to_excel(excel_writer=r'C:\\Users\\bhavrang\\Desktop\\bhavya\\Analytics\\NBCdata1.xlsx')"
   ]
  },
  {
   "cell_type": "code",
   "execution_count": 28,
   "metadata": {},
   "outputs": [],
   "source": [
    "#newdf['DEVICE_NM']=newdf['DEVICE_NM'].astype('category')"
   ]
  },
  {
   "cell_type": "code",
   "execution_count": 28,
   "metadata": {},
   "outputs": [],
   "source": [
    "#to get the no.of active days that a customer have\n",
    "df['active'] = np.where(df['DATA_SOURCE_STATUS']=='ACTIVE',df['USER_ACCESS_EXP_DT']-df['SUBSCRIPTION_START_DT'] , df['CANCELLATION_DT']-df['SUBSCRIPTION_START_DT'])\n",
    "df['check']=df['USER_ACCESS_EXP_DT']>'2018-12-31'\n",
    "df['dummy']=np.where(df['check']==True,df['USER_ACCESS_EXP_DT']-np.datetime64('2018-12-31'),0)\n",
    "df['active_days']=df['active']-df['dummy']\n",
    "df['ACTIVE_DAYS']=df['active_days'] / np.timedelta64(1, 'D')\n",
    "df.drop(['active','check','dummy','active_days'],axis =1,inplace=True)\n"
   ]
  },
  {
   "cell_type": "code",
   "execution_count": 29,
   "metadata": {},
   "outputs": [
    {
     "data": {
      "text/plain": [
       "Index(['GOLD_SUBSCRIPTION_ID', 'SUBSCRIPTION_ID', 'USER_DM_ID', 'SPORT_DM_ID',\n",
       "       'Sport name', 'SPORT_TERM_DM_ID', 'SUBSCRIPTION_START_DT',\n",
       "       'DATA_SOURCE_STATUS', 'SUSCRIPTION_STATUS', 'CURRENCY_DM_ID',\n",
       "       'SUBCRIPTION_PRICE', 'TOTAL_CHARGED_AMT', 'TOTAL_TP_FEES_AMT',\n",
       "       'CHARGE_COUNT', 'TOTAL_REFUNDED_AMT', 'TOTAL_TP_FEES_REFUNDED_AMT',\n",
       "       'LAST_BILLING_DT', 'NEXT_BILLING_DT', 'CANCELLATION_DT',\n",
       "       'USER_ACCESS_EXP_DT', 'SUBSCRIPTION_TRIAL_END_DT',\n",
       "       'SUBSCRIPTION_GRCPD_START_DT', 'RENEW_IND', 'AUTO_RENEW_STATUS',\n",
       "       'CAMPAIGN_DM_ID', 'DEVICE_DM_ID', 'PROMO_CODE', 'TAX_AMT', 'TAX_RATE',\n",
       "       'TAX_COUNTRY', 'TAX_STATE', 'CREATED_BY', 'CREATE_DT_TIME', 'BATCH_ID',\n",
       "       'BILL_ZIP_CD', 'TERM_CONV_DT', 'SPORT_SEASON_DM_ID', 'TAX_REF_AMT',\n",
       "       'WINBACK_IND', 'PAYMENT_SOURCE_TYPE', 'SUB_ST_DT', 'SUB_END_DT',\n",
       "       'NEW_SUMMARY_DESC', 'DEVICE_NM', 'CURRENCY_NM', 'ACTIVE_DAYS'],\n",
       "      dtype='object')"
      ]
     },
     "execution_count": 29,
     "metadata": {},
     "output_type": "execute_result"
    }
   ],
   "source": [
    "df.columns"
   ]
  },
  {
   "cell_type": "code",
   "execution_count": null,
   "metadata": {},
   "outputs": [],
   "source": []
  },
  {
   "cell_type": "code",
   "execution_count": 30,
   "metadata": {},
   "outputs": [],
   "source": [
    "#deleting the records of payment failure and currency name other than 'USD'\n",
    "new_df=df[(df['DATA_SOURCE_STATUS']!='PAYMENT FAILURE')&(df['CURRENCY_NM']=='USD')][['USER_DM_ID','Sport name','DEVICE_NM','WINBACK_IND','AUTO_RENEW_STATUS','RENEW_IND','PAYMENT_SOURCE_TYPE']].copy()\n",
    "new_df=pd.get_dummies(new_df, columns=['Sport name','DEVICE_NM','WINBACK_IND','AUTO_RENEW_STATUS','RENEW_IND','PAYMENT_SOURCE_TYPE'])"
   ]
  },
  {
   "cell_type": "code",
   "execution_count": 31,
   "metadata": {},
   "outputs": [],
   "source": [
    "#to sum up all the records per user\n",
    "new_df=new_df.groupby('USER_DM_ID').sum()\n",
    "#new_df['USER_DM_ID']=new_df.index"
   ]
  },
  {
   "cell_type": "code",
   "execution_count": 32,
   "metadata": {},
   "outputs": [],
   "source": [
    "#to get the count of the unique subscriptions for a user \n",
    "#do it after filtering unique userids else we will get the value repeated\n",
    "res=df.groupby('USER_DM_ID')['SUBSCRIPTION_ID'].nunique().reset_index(name='UNIQUE_SUB_COUNT')\n",
    "#after taking subscription count only we need to join the dfs for user_dm_id\n",
    "new_df=pd.merge(new_df,res,how='left',on='USER_DM_ID')"
   ]
  },
  {
   "cell_type": "code",
   "execution_count": 33,
   "metadata": {},
   "outputs": [],
   "source": [
    "#to count the total amount charged per user \n",
    "chargedf=df[['USER_DM_ID','CHARGE_COUNT','SUBCRIPTION_PRICE','TOTAL_CHARGED_AMT','TOTAL_REFUNDED_AMT','ACTIVE_DAYS']].copy()\n",
    "chargedf=chargedf.groupby('USER_DM_ID').sum()\n",
    "new_df=pd.merge(new_df,chargedf,how='left',on='USER_DM_ID')"
   ]
  },
  {
   "cell_type": "code",
   "execution_count": 34,
   "metadata": {},
   "outputs": [
    {
     "name": "stderr",
     "output_type": "stream",
     "text": [
      "C:\\Users\\bhavrang\\AppData\\Local\\Continuum\\anaconda3\\lib\\site-packages\\pandas\\core\\frame.py:3697: SettingWithCopyWarning: \n",
      "A value is trying to be set on a copy of a slice from a DataFrame\n",
      "\n",
      "See the caveats in the documentation: http://pandas.pydata.org/pandas-docs/stable/indexing.html#indexing-view-versus-copy\n",
      "  errors=errors)\n"
     ]
    }
   ],
   "source": [
    "#to get the status of a user by verifiying his all subscriptions\n",
    "#deleting payment failure records from the data.\n",
    "df1=df[['USER_DM_ID','DATA_SOURCE_STATUS']]\n",
    "df1.drop(df1[df1['DATA_SOURCE_STATUS']=='PAYMENT FAILURE'].index,inplace=True)\n",
    "DSS=df1.groupby(['USER_DM_ID','DATA_SOURCE_STATUS'])['DATA_SOURCE_STATUS'].count().reset_index(name='COUNT')"
   ]
  },
  {
   "cell_type": "code",
   "execution_count": 35,
   "metadata": {},
   "outputs": [],
   "source": [
    "DSS['USER_STATUS'] = np.where(DSS['DATA_SOURCE_STATUS']=='ACTIVE', 0, 1)\n",
    "res1=DSS.groupby('USER_DM_ID').sum()"
   ]
  },
  {
   "cell_type": "code",
   "execution_count": 36,
   "metadata": {},
   "outputs": [],
   "source": [
    "new_df=pd.merge(new_df,res1,how='left',on='USER_DM_ID')\n",
    "new_df.drop(['COUNT'],axis=1,inplace=True)\n",
    "new_df['USER_STATUS'].replace(to_replace=0,value='ACTIVE',inplace=True)\n",
    "new_df['USER_STATUS'].replace(to_replace=1,value='CANCELLED',inplace=True)"
   ]
  },
  {
   "cell_type": "code",
   "execution_count": 37,
   "metadata": {},
   "outputs": [],
   "source": [
    "new_df['USER_STATUS'].replace(to_replace='ACTIVE',value=1,inplace=True)\n",
    "new_df['USER_STATUS'].replace(to_replace='CANCELLED',value=0,inplace=True)"
   ]
  },
  {
   "cell_type": "code",
   "execution_count": 57,
   "metadata": {},
   "outputs": [
    {
     "data": {
      "text/plain": [
       "(367844, 46)"
      ]
     },
     "execution_count": 57,
     "metadata": {},
     "output_type": "execute_result"
    }
   ],
   "source": [
    "df.shape"
   ]
  },
  {
   "cell_type": "raw",
   "metadata": {},
   "source": [
    "new_df.dtypes"
   ]
  },
  {
   "cell_type": "raw",
   "metadata": {},
   "source": [
    "#res1=DSS.groupby('USER_DM_ID').agg({'USER_DM_ID':'unique'})\n",
    "#res2=DSS.groupby('USER_DM_ID').agg({'STATUS':'unique'})"
   ]
  },
  {
   "cell_type": "raw",
   "metadata": {},
   "source": [
    "#res_df['USER_DM_ID']=res1['USER_DM_ID']\n",
    "#res_df['STATUS']=res2['STATUS']"
   ]
  },
  {
   "cell_type": "code",
   "execution_count": 39,
   "metadata": {},
   "outputs": [
    {
     "data": {
      "text/html": [
       "<div>\n",
       "<style scoped>\n",
       "    .dataframe tbody tr th:only-of-type {\n",
       "        vertical-align: middle;\n",
       "    }\n",
       "\n",
       "    .dataframe tbody tr th {\n",
       "        vertical-align: top;\n",
       "    }\n",
       "\n",
       "    .dataframe thead th {\n",
       "        text-align: right;\n",
       "    }\n",
       "</style>\n",
       "<table border=\"1\" class=\"dataframe\">\n",
       "  <thead>\n",
       "    <tr style=\"text-align: right;\">\n",
       "      <th></th>\n",
       "      <th>USER_DM_ID</th>\n",
       "      <th>Sport name_Sport1</th>\n",
       "      <th>Sport name_Sport12</th>\n",
       "      <th>Sport name_Sport15</th>\n",
       "      <th>Sport name_Sport16</th>\n",
       "      <th>Sport name_Sport17</th>\n",
       "      <th>Sport name_Sport18</th>\n",
       "      <th>Sport name_Sport19</th>\n",
       "      <th>Sport name_Sport2</th>\n",
       "      <th>Sport name_Sport21</th>\n",
       "      <th>...</th>\n",
       "      <th>PAYMENT_SOURCE_TYPE_NOT KNOWN</th>\n",
       "      <th>PAYMENT_SOURCE_TYPE_PAYPAL</th>\n",
       "      <th>PAYMENT_SOURCE_TYPE_VISA CARD</th>\n",
       "      <th>UNIQUE_SUB_COUNT</th>\n",
       "      <th>CHARGE_COUNT</th>\n",
       "      <th>SUBCRIPTION_PRICE</th>\n",
       "      <th>TOTAL_CHARGED_AMT</th>\n",
       "      <th>TOTAL_REFUNDED_AMT</th>\n",
       "      <th>ACTIVE_DAYS</th>\n",
       "      <th>USER_STATUS</th>\n",
       "    </tr>\n",
       "  </thead>\n",
       "  <tbody>\n",
       "    <tr>\n",
       "      <th>0</th>\n",
       "      <td>1</td>\n",
       "      <td>0</td>\n",
       "      <td>0</td>\n",
       "      <td>0</td>\n",
       "      <td>0</td>\n",
       "      <td>0</td>\n",
       "      <td>0</td>\n",
       "      <td>0</td>\n",
       "      <td>0</td>\n",
       "      <td>0</td>\n",
       "      <td>...</td>\n",
       "      <td>0</td>\n",
       "      <td>0</td>\n",
       "      <td>1</td>\n",
       "      <td>1</td>\n",
       "      <td>2</td>\n",
       "      <td>49.99</td>\n",
       "      <td>49.99</td>\n",
       "      <td>0.0</td>\n",
       "      <td>151.0</td>\n",
       "      <td>1</td>\n",
       "    </tr>\n",
       "    <tr>\n",
       "      <th>1</th>\n",
       "      <td>100</td>\n",
       "      <td>0</td>\n",
       "      <td>0</td>\n",
       "      <td>0</td>\n",
       "      <td>0</td>\n",
       "      <td>0</td>\n",
       "      <td>0</td>\n",
       "      <td>0</td>\n",
       "      <td>0</td>\n",
       "      <td>0</td>\n",
       "      <td>...</td>\n",
       "      <td>0</td>\n",
       "      <td>1</td>\n",
       "      <td>0</td>\n",
       "      <td>1</td>\n",
       "      <td>2</td>\n",
       "      <td>54.99</td>\n",
       "      <td>54.99</td>\n",
       "      <td>0.0</td>\n",
       "      <td>232.0</td>\n",
       "      <td>1</td>\n",
       "    </tr>\n",
       "    <tr>\n",
       "      <th>2</th>\n",
       "      <td>10000</td>\n",
       "      <td>0</td>\n",
       "      <td>0</td>\n",
       "      <td>0</td>\n",
       "      <td>0</td>\n",
       "      <td>0</td>\n",
       "      <td>0</td>\n",
       "      <td>0</td>\n",
       "      <td>0</td>\n",
       "      <td>0</td>\n",
       "      <td>...</td>\n",
       "      <td>0</td>\n",
       "      <td>0</td>\n",
       "      <td>1</td>\n",
       "      <td>1</td>\n",
       "      <td>2</td>\n",
       "      <td>54.99</td>\n",
       "      <td>54.99</td>\n",
       "      <td>0.0</td>\n",
       "      <td>227.0</td>\n",
       "      <td>1</td>\n",
       "    </tr>\n",
       "    <tr>\n",
       "      <th>3</th>\n",
       "      <td>100001</td>\n",
       "      <td>0</td>\n",
       "      <td>0</td>\n",
       "      <td>0</td>\n",
       "      <td>0</td>\n",
       "      <td>0</td>\n",
       "      <td>0</td>\n",
       "      <td>0</td>\n",
       "      <td>0</td>\n",
       "      <td>0</td>\n",
       "      <td>...</td>\n",
       "      <td>0</td>\n",
       "      <td>1</td>\n",
       "      <td>0</td>\n",
       "      <td>1</td>\n",
       "      <td>2</td>\n",
       "      <td>49.99</td>\n",
       "      <td>49.99</td>\n",
       "      <td>0.0</td>\n",
       "      <td>151.0</td>\n",
       "      <td>1</td>\n",
       "    </tr>\n",
       "    <tr>\n",
       "      <th>4</th>\n",
       "      <td>100002</td>\n",
       "      <td>1</td>\n",
       "      <td>0</td>\n",
       "      <td>0</td>\n",
       "      <td>0</td>\n",
       "      <td>0</td>\n",
       "      <td>0</td>\n",
       "      <td>0</td>\n",
       "      <td>0</td>\n",
       "      <td>0</td>\n",
       "      <td>...</td>\n",
       "      <td>0</td>\n",
       "      <td>0</td>\n",
       "      <td>0</td>\n",
       "      <td>1</td>\n",
       "      <td>2</td>\n",
       "      <td>49.99</td>\n",
       "      <td>49.99</td>\n",
       "      <td>0.0</td>\n",
       "      <td>189.0</td>\n",
       "      <td>1</td>\n",
       "    </tr>\n",
       "  </tbody>\n",
       "</table>\n",
       "<p>5 rows × 51 columns</p>\n",
       "</div>"
      ],
      "text/plain": [
       "  USER_DM_ID  Sport name_Sport1  Sport name_Sport12  Sport name_Sport15  \\\n",
       "0          1                  0                   0                   0   \n",
       "1        100                  0                   0                   0   \n",
       "2      10000                  0                   0                   0   \n",
       "3     100001                  0                   0                   0   \n",
       "4     100002                  1                   0                   0   \n",
       "\n",
       "   Sport name_Sport16  Sport name_Sport17  Sport name_Sport18  \\\n",
       "0                   0                   0                   0   \n",
       "1                   0                   0                   0   \n",
       "2                   0                   0                   0   \n",
       "3                   0                   0                   0   \n",
       "4                   0                   0                   0   \n",
       "\n",
       "   Sport name_Sport19  Sport name_Sport2  Sport name_Sport21     ...       \\\n",
       "0                   0                  0                   0     ...        \n",
       "1                   0                  0                   0     ...        \n",
       "2                   0                  0                   0     ...        \n",
       "3                   0                  0                   0     ...        \n",
       "4                   0                  0                   0     ...        \n",
       "\n",
       "   PAYMENT_SOURCE_TYPE_NOT KNOWN  PAYMENT_SOURCE_TYPE_PAYPAL  \\\n",
       "0                              0                           0   \n",
       "1                              0                           1   \n",
       "2                              0                           0   \n",
       "3                              0                           1   \n",
       "4                              0                           0   \n",
       "\n",
       "   PAYMENT_SOURCE_TYPE_VISA CARD  UNIQUE_SUB_COUNT  CHARGE_COUNT  \\\n",
       "0                              1                 1             2   \n",
       "1                              0                 1             2   \n",
       "2                              1                 1             2   \n",
       "3                              0                 1             2   \n",
       "4                              0                 1             2   \n",
       "\n",
       "   SUBCRIPTION_PRICE  TOTAL_CHARGED_AMT  TOTAL_REFUNDED_AMT  ACTIVE_DAYS  \\\n",
       "0              49.99              49.99                 0.0        151.0   \n",
       "1              54.99              54.99                 0.0        232.0   \n",
       "2              54.99              54.99                 0.0        227.0   \n",
       "3              49.99              49.99                 0.0        151.0   \n",
       "4              49.99              49.99                 0.0        189.0   \n",
       "\n",
       "   USER_STATUS  \n",
       "0            1  \n",
       "1            1  \n",
       "2            1  \n",
       "3            1  \n",
       "4            1  \n",
       "\n",
       "[5 rows x 51 columns]"
      ]
     },
     "execution_count": 39,
     "metadata": {},
     "output_type": "execute_result"
    }
   ],
   "source": [
    "new_df.head()"
   ]
  },
  {
   "cell_type": "code",
   "execution_count": 131,
   "metadata": {},
   "outputs": [],
   "source": [
    "new_df.to_excel(excel_writer=r'C:\\Users\\bhavrang\\Desktop\\bhavya\\Analytics\\NBCdata_userlevel.xlsx')"
   ]
  },
  {
   "cell_type": "code",
   "execution_count": 66,
   "metadata": {},
   "outputs": [],
   "source": [
    "new_df.drop(['DEVICE_NM_INVALID'],axis=1,inplace=True)"
   ]
  },
  {
   "cell_type": "code",
   "execution_count": 67,
   "metadata": {},
   "outputs": [],
   "source": [
    "d1=new_df[new_df['USER_STATUS']==0]\n",
    "d2=new_df[new_df['USER_STATUS']==1].sample(n=6933)\n",
    "new_df1=pd.concat([d1,d2])"
   ]
  },
  {
   "cell_type": "code",
   "execution_count": 80,
   "metadata": {},
   "outputs": [],
   "source": [
    "pd.set_option('display.max_column',None)\n",
    "pd.set_option('display.max_rows',None)\n",
    "pd.set_option('display.max_seq_items',None)\n",
    "pd.set_option('display.max_colwidth', 500)\n",
    "pd.set_option('expand_frame_repr', True)"
   ]
  },
  {
   "cell_type": "code",
   "execution_count": 65,
   "metadata": {},
   "outputs": [],
   "source": [
    "import pandas_profiling as pf\n",
    "profile = pf.ProfileReport(df)\n",
    "profile.to_file(outputfile=\"newreport.html\")"
   ]
  },
  {
   "cell_type": "code",
   "execution_count": null,
   "metadata": {},
   "outputs": [],
   "source": [
    "new_df.shape"
   ]
  },
  {
   "cell_type": "code",
   "execution_count": 72,
   "metadata": {},
   "outputs": [],
   "source": [
    "#partitioning data into x and y variables\n",
    "X=new_df.iloc[:,:-1]\n",
    "y=new_df.iloc[:,49]\n"
   ]
  },
  {
   "cell_type": "code",
   "execution_count": 73,
   "metadata": {},
   "outputs": [],
   "source": [
    "#splitting the data into training set and test set\n",
    "from sklearn.model_selection import train_test_split\n",
    "X_train,X_test,y_train,y_test= train_test_split(X,y,test_size=0.2,random_state=50)"
   ]
  },
  {
   "cell_type": "code",
   "execution_count": 74,
   "metadata": {},
   "outputs": [
    {
     "name": "stderr",
     "output_type": "stream",
     "text": [
      "C:\\Users\\bhavrang\\AppData\\Local\\Continuum\\anaconda3\\lib\\site-packages\\sklearn\\linear_model\\logistic.py:433: FutureWarning: Default solver will be changed to 'lbfgs' in 0.22. Specify a solver to silence this warning.\n",
      "  FutureWarning)\n"
     ]
    }
   ],
   "source": [
    "#fitting logistic regression to the given data\n",
    "from sklearn.linear_model import LogisticRegression\n",
    "lr = LogisticRegression(max_iter=100,random_state=100)\n",
    "result=lr.fit(X_train,y_train)"
   ]
  },
  {
   "cell_type": "code",
   "execution_count": 76,
   "metadata": {},
   "outputs": [
    {
     "name": "stdout",
     "output_type": "stream",
     "text": [
      "[[ 1080   217]\n",
      " [   25 62220]]\n"
     ]
    }
   ],
   "source": [
    "#predicting y value\n",
    "y_pred=lr.predict(X_test)\n",
    "from sklearn.metrics import confusion_matrix\n",
    "cm= confusion_matrix(y_test,y_pred)\n",
    "print(cm)"
   ]
  },
  {
   "cell_type": "code",
   "execution_count": 75,
   "metadata": {},
   "outputs": [
    {
     "data": {
      "text/plain": [
       "0.99582319558587"
      ]
     },
     "execution_count": 75,
     "metadata": {},
     "output_type": "execute_result"
    }
   ],
   "source": [
    "lr.score(X,y)"
   ]
  },
  {
   "cell_type": "code",
   "execution_count": 469,
   "metadata": {},
   "outputs": [],
   "source": [
    "#to get the churn probabilites of each user.\n",
    "res=lr.predict_proba(X)\n",
    "res=pd.DataFrame(res,columns=['CANCELLED_PROBABILITY','ACTIVE_PROBABILITY'])\n",
    "prob1=X.join(res)\n"
   ]
  },
  {
   "cell_type": "code",
   "execution_count": 471,
   "metadata": {},
   "outputs": [],
   "source": [
    "#to export the probability data\n",
    "prob1[['USER_DM_ID','CANCELLED_PROBABILITY','ACTIVE_PROBABILITY']].to_excel(excel_writer=r'C:\\Users\\bhavrang\\Desktop\\bhavya\\Analytics\\user_probability_v2.xlsx')"
   ]
  },
  {
   "cell_type": "raw",
   "metadata": {},
   "source": [
    "#to get the churn probabilities of each user.\n",
    "res=pd.DataFrame(lr.predict_proba(X),columns=lr.classes_)\n",
    "res = res.rename(index=str,columns = {0: \"CANCELLED_PROBABILITY\",1:\"ACTIVE_PROBABILITY\"}) \n",
    "prob=X.join(res)\n"
   ]
  },
  {
   "cell_type": "code",
   "execution_count": 470,
   "metadata": {},
   "outputs": [
    {
     "data": {
      "text/html": [
       "<div>\n",
       "<style scoped>\n",
       "    .dataframe tbody tr th:only-of-type {\n",
       "        vertical-align: middle;\n",
       "    }\n",
       "\n",
       "    .dataframe tbody tr th {\n",
       "        vertical-align: top;\n",
       "    }\n",
       "\n",
       "    .dataframe thead th {\n",
       "        text-align: right;\n",
       "    }\n",
       "</style>\n",
       "<table border=\"1\" class=\"dataframe\">\n",
       "  <thead>\n",
       "    <tr style=\"text-align: right;\">\n",
       "      <th></th>\n",
       "      <th>USER_DM_ID</th>\n",
       "      <th>CANCELLED_PROBABILITY</th>\n",
       "      <th>ACTIVE_PROBABILITY</th>\n",
       "    </tr>\n",
       "  </thead>\n",
       "  <tbody>\n",
       "    <tr>\n",
       "      <th>0</th>\n",
       "      <td>1</td>\n",
       "      <td>0.087310</td>\n",
       "      <td>0.912690</td>\n",
       "    </tr>\n",
       "    <tr>\n",
       "      <th>1</th>\n",
       "      <td>100</td>\n",
       "      <td>0.015954</td>\n",
       "      <td>0.984046</td>\n",
       "    </tr>\n",
       "    <tr>\n",
       "      <th>2</th>\n",
       "      <td>10000</td>\n",
       "      <td>0.014243</td>\n",
       "      <td>0.985757</td>\n",
       "    </tr>\n",
       "    <tr>\n",
       "      <th>3</th>\n",
       "      <td>100001</td>\n",
       "      <td>0.009179</td>\n",
       "      <td>0.990821</td>\n",
       "    </tr>\n",
       "    <tr>\n",
       "      <th>4</th>\n",
       "      <td>100002</td>\n",
       "      <td>0.003797</td>\n",
       "      <td>0.996203</td>\n",
       "    </tr>\n",
       "    <tr>\n",
       "      <th>5</th>\n",
       "      <td>100003</td>\n",
       "      <td>0.003973</td>\n",
       "      <td>0.996027</td>\n",
       "    </tr>\n",
       "    <tr>\n",
       "      <th>6</th>\n",
       "      <td>100005</td>\n",
       "      <td>0.015986</td>\n",
       "      <td>0.984014</td>\n",
       "    </tr>\n",
       "    <tr>\n",
       "      <th>7</th>\n",
       "      <td>100007</td>\n",
       "      <td>0.009168</td>\n",
       "      <td>0.990832</td>\n",
       "    </tr>\n",
       "    <tr>\n",
       "      <th>8</th>\n",
       "      <td>100009</td>\n",
       "      <td>0.003978</td>\n",
       "      <td>0.996022</td>\n",
       "    </tr>\n",
       "    <tr>\n",
       "      <th>9</th>\n",
       "      <td>10001</td>\n",
       "      <td>0.031251</td>\n",
       "      <td>0.968749</td>\n",
       "    </tr>\n",
       "    <tr>\n",
       "      <th>10</th>\n",
       "      <td>100010</td>\n",
       "      <td>0.003796</td>\n",
       "      <td>0.996204</td>\n",
       "    </tr>\n",
       "    <tr>\n",
       "      <th>11</th>\n",
       "      <td>100011</td>\n",
       "      <td>0.003968</td>\n",
       "      <td>0.996032</td>\n",
       "    </tr>\n",
       "    <tr>\n",
       "      <th>12</th>\n",
       "      <td>100013</td>\n",
       "      <td>0.003796</td>\n",
       "      <td>0.996204</td>\n",
       "    </tr>\n",
       "    <tr>\n",
       "      <th>13</th>\n",
       "      <td>100014</td>\n",
       "      <td>0.004942</td>\n",
       "      <td>0.995058</td>\n",
       "    </tr>\n",
       "    <tr>\n",
       "      <th>14</th>\n",
       "      <td>100015</td>\n",
       "      <td>0.003972</td>\n",
       "      <td>0.996028</td>\n",
       "    </tr>\n",
       "    <tr>\n",
       "      <th>15</th>\n",
       "      <td>100016</td>\n",
       "      <td>0.003972</td>\n",
       "      <td>0.996028</td>\n",
       "    </tr>\n",
       "    <tr>\n",
       "      <th>16</th>\n",
       "      <td>100017</td>\n",
       "      <td>0.001569</td>\n",
       "      <td>0.998431</td>\n",
       "    </tr>\n",
       "    <tr>\n",
       "      <th>17</th>\n",
       "      <td>100019</td>\n",
       "      <td>0.009172</td>\n",
       "      <td>0.990828</td>\n",
       "    </tr>\n",
       "    <tr>\n",
       "      <th>18</th>\n",
       "      <td>10002</td>\n",
       "      <td>0.039030</td>\n",
       "      <td>0.960970</td>\n",
       "    </tr>\n",
       "    <tr>\n",
       "      <th>19</th>\n",
       "      <td>100022</td>\n",
       "      <td>0.000058</td>\n",
       "      <td>0.999942</td>\n",
       "    </tr>\n",
       "    <tr>\n",
       "      <th>20</th>\n",
       "      <td>100023</td>\n",
       "      <td>0.001533</td>\n",
       "      <td>0.998467</td>\n",
       "    </tr>\n",
       "    <tr>\n",
       "      <th>21</th>\n",
       "      <td>100024</td>\n",
       "      <td>0.003875</td>\n",
       "      <td>0.996125</td>\n",
       "    </tr>\n",
       "    <tr>\n",
       "      <th>22</th>\n",
       "      <td>100025</td>\n",
       "      <td>0.001497</td>\n",
       "      <td>0.998503</td>\n",
       "    </tr>\n",
       "    <tr>\n",
       "      <th>23</th>\n",
       "      <td>100026</td>\n",
       "      <td>0.001531</td>\n",
       "      <td>0.998469</td>\n",
       "    </tr>\n",
       "    <tr>\n",
       "      <th>24</th>\n",
       "      <td>100027</td>\n",
       "      <td>0.000068</td>\n",
       "      <td>0.999932</td>\n",
       "    </tr>\n",
       "    <tr>\n",
       "      <th>25</th>\n",
       "      <td>100028</td>\n",
       "      <td>0.013472</td>\n",
       "      <td>0.986528</td>\n",
       "    </tr>\n",
       "    <tr>\n",
       "      <th>26</th>\n",
       "      <td>100029</td>\n",
       "      <td>0.001765</td>\n",
       "      <td>0.998235</td>\n",
       "    </tr>\n",
       "    <tr>\n",
       "      <th>27</th>\n",
       "      <td>10003</td>\n",
       "      <td>0.001272</td>\n",
       "      <td>0.998728</td>\n",
       "    </tr>\n",
       "    <tr>\n",
       "      <th>28</th>\n",
       "      <td>100030</td>\n",
       "      <td>0.001495</td>\n",
       "      <td>0.998505</td>\n",
       "    </tr>\n",
       "    <tr>\n",
       "      <th>29</th>\n",
       "      <td>100031</td>\n",
       "      <td>0.001571</td>\n",
       "      <td>0.998429</td>\n",
       "    </tr>\n",
       "    <tr>\n",
       "      <th>...</th>\n",
       "      <td>...</td>\n",
       "      <td>...</td>\n",
       "      <td>...</td>\n",
       "    </tr>\n",
       "    <tr>\n",
       "      <th>317677</th>\n",
       "      <td>99964</td>\n",
       "      <td>0.003976</td>\n",
       "      <td>0.996024</td>\n",
       "    </tr>\n",
       "    <tr>\n",
       "      <th>317678</th>\n",
       "      <td>99965</td>\n",
       "      <td>0.003791</td>\n",
       "      <td>0.996209</td>\n",
       "    </tr>\n",
       "    <tr>\n",
       "      <th>317679</th>\n",
       "      <td>99966</td>\n",
       "      <td>0.003982</td>\n",
       "      <td>0.996018</td>\n",
       "    </tr>\n",
       "    <tr>\n",
       "      <th>317680</th>\n",
       "      <td>99968</td>\n",
       "      <td>0.003880</td>\n",
       "      <td>0.996120</td>\n",
       "    </tr>\n",
       "    <tr>\n",
       "      <th>317681</th>\n",
       "      <td>99970</td>\n",
       "      <td>0.000083</td>\n",
       "      <td>0.999917</td>\n",
       "    </tr>\n",
       "    <tr>\n",
       "      <th>317682</th>\n",
       "      <td>99971</td>\n",
       "      <td>0.010927</td>\n",
       "      <td>0.989073</td>\n",
       "    </tr>\n",
       "    <tr>\n",
       "      <th>317683</th>\n",
       "      <td>99972</td>\n",
       "      <td>0.003880</td>\n",
       "      <td>0.996120</td>\n",
       "    </tr>\n",
       "    <tr>\n",
       "      <th>317684</th>\n",
       "      <td>99973</td>\n",
       "      <td>0.003975</td>\n",
       "      <td>0.996025</td>\n",
       "    </tr>\n",
       "    <tr>\n",
       "      <th>317685</th>\n",
       "      <td>99975</td>\n",
       "      <td>0.003975</td>\n",
       "      <td>0.996025</td>\n",
       "    </tr>\n",
       "    <tr>\n",
       "      <th>317686</th>\n",
       "      <td>99976</td>\n",
       "      <td>0.004414</td>\n",
       "      <td>0.995586</td>\n",
       "    </tr>\n",
       "    <tr>\n",
       "      <th>317687</th>\n",
       "      <td>99977</td>\n",
       "      <td>0.003975</td>\n",
       "      <td>0.996025</td>\n",
       "    </tr>\n",
       "    <tr>\n",
       "      <th>317688</th>\n",
       "      <td>99978</td>\n",
       "      <td>0.003975</td>\n",
       "      <td>0.996025</td>\n",
       "    </tr>\n",
       "    <tr>\n",
       "      <th>317689</th>\n",
       "      <td>99979</td>\n",
       "      <td>0.000001</td>\n",
       "      <td>0.999999</td>\n",
       "    </tr>\n",
       "    <tr>\n",
       "      <th>317690</th>\n",
       "      <td>99980</td>\n",
       "      <td>0.003819</td>\n",
       "      <td>0.996181</td>\n",
       "    </tr>\n",
       "    <tr>\n",
       "      <th>317691</th>\n",
       "      <td>99981</td>\n",
       "      <td>0.000239</td>\n",
       "      <td>0.999761</td>\n",
       "    </tr>\n",
       "    <tr>\n",
       "      <th>317692</th>\n",
       "      <td>99982</td>\n",
       "      <td>0.003794</td>\n",
       "      <td>0.996206</td>\n",
       "    </tr>\n",
       "    <tr>\n",
       "      <th>317693</th>\n",
       "      <td>99985</td>\n",
       "      <td>0.009189</td>\n",
       "      <td>0.990811</td>\n",
       "    </tr>\n",
       "    <tr>\n",
       "      <th>317694</th>\n",
       "      <td>99987</td>\n",
       "      <td>0.003879</td>\n",
       "      <td>0.996121</td>\n",
       "    </tr>\n",
       "    <tr>\n",
       "      <th>317695</th>\n",
       "      <td>99988</td>\n",
       "      <td>0.001534</td>\n",
       "      <td>0.998466</td>\n",
       "    </tr>\n",
       "    <tr>\n",
       "      <th>317696</th>\n",
       "      <td>9999</td>\n",
       "      <td>0.000681</td>\n",
       "      <td>0.999319</td>\n",
       "    </tr>\n",
       "    <tr>\n",
       "      <th>317697</th>\n",
       "      <td>99990</td>\n",
       "      <td>0.000009</td>\n",
       "      <td>0.999991</td>\n",
       "    </tr>\n",
       "    <tr>\n",
       "      <th>317698</th>\n",
       "      <td>99991</td>\n",
       "      <td>0.003974</td>\n",
       "      <td>0.996026</td>\n",
       "    </tr>\n",
       "    <tr>\n",
       "      <th>317699</th>\n",
       "      <td>99992</td>\n",
       "      <td>0.003888</td>\n",
       "      <td>0.996112</td>\n",
       "    </tr>\n",
       "    <tr>\n",
       "      <th>317700</th>\n",
       "      <td>99993</td>\n",
       "      <td>0.003793</td>\n",
       "      <td>0.996207</td>\n",
       "    </tr>\n",
       "    <tr>\n",
       "      <th>317701</th>\n",
       "      <td>99994</td>\n",
       "      <td>0.003979</td>\n",
       "      <td>0.996021</td>\n",
       "    </tr>\n",
       "    <tr>\n",
       "      <th>317702</th>\n",
       "      <td>99995</td>\n",
       "      <td>0.009187</td>\n",
       "      <td>0.990813</td>\n",
       "    </tr>\n",
       "    <tr>\n",
       "      <th>317703</th>\n",
       "      <td>99996</td>\n",
       "      <td>0.000155</td>\n",
       "      <td>0.999845</td>\n",
       "    </tr>\n",
       "    <tr>\n",
       "      <th>317704</th>\n",
       "      <td>99997</td>\n",
       "      <td>0.003969</td>\n",
       "      <td>0.996031</td>\n",
       "    </tr>\n",
       "    <tr>\n",
       "      <th>317705</th>\n",
       "      <td>99998</td>\n",
       "      <td>0.999755</td>\n",
       "      <td>0.000245</td>\n",
       "    </tr>\n",
       "    <tr>\n",
       "      <th>317706</th>\n",
       "      <td>99999</td>\n",
       "      <td>0.009204</td>\n",
       "      <td>0.990796</td>\n",
       "    </tr>\n",
       "  </tbody>\n",
       "</table>\n",
       "<p>317707 rows × 3 columns</p>\n",
       "</div>"
      ],
      "text/plain": [
       "       USER_DM_ID  CANCELLED_PROBABILITY  ACTIVE_PROBABILITY\n",
       "0               1               0.087310            0.912690\n",
       "1             100               0.015954            0.984046\n",
       "2           10000               0.014243            0.985757\n",
       "3          100001               0.009179            0.990821\n",
       "4          100002               0.003797            0.996203\n",
       "5          100003               0.003973            0.996027\n",
       "6          100005               0.015986            0.984014\n",
       "7          100007               0.009168            0.990832\n",
       "8          100009               0.003978            0.996022\n",
       "9           10001               0.031251            0.968749\n",
       "10         100010               0.003796            0.996204\n",
       "11         100011               0.003968            0.996032\n",
       "12         100013               0.003796            0.996204\n",
       "13         100014               0.004942            0.995058\n",
       "14         100015               0.003972            0.996028\n",
       "15         100016               0.003972            0.996028\n",
       "16         100017               0.001569            0.998431\n",
       "17         100019               0.009172            0.990828\n",
       "18          10002               0.039030            0.960970\n",
       "19         100022               0.000058            0.999942\n",
       "20         100023               0.001533            0.998467\n",
       "21         100024               0.003875            0.996125\n",
       "22         100025               0.001497            0.998503\n",
       "23         100026               0.001531            0.998469\n",
       "24         100027               0.000068            0.999932\n",
       "25         100028               0.013472            0.986528\n",
       "26         100029               0.001765            0.998235\n",
       "27          10003               0.001272            0.998728\n",
       "28         100030               0.001495            0.998505\n",
       "29         100031               0.001571            0.998429\n",
       "...           ...                    ...                 ...\n",
       "317677      99964               0.003976            0.996024\n",
       "317678      99965               0.003791            0.996209\n",
       "317679      99966               0.003982            0.996018\n",
       "317680      99968               0.003880            0.996120\n",
       "317681      99970               0.000083            0.999917\n",
       "317682      99971               0.010927            0.989073\n",
       "317683      99972               0.003880            0.996120\n",
       "317684      99973               0.003975            0.996025\n",
       "317685      99975               0.003975            0.996025\n",
       "317686      99976               0.004414            0.995586\n",
       "317687      99977               0.003975            0.996025\n",
       "317688      99978               0.003975            0.996025\n",
       "317689      99979               0.000001            0.999999\n",
       "317690      99980               0.003819            0.996181\n",
       "317691      99981               0.000239            0.999761\n",
       "317692      99982               0.003794            0.996206\n",
       "317693      99985               0.009189            0.990811\n",
       "317694      99987               0.003879            0.996121\n",
       "317695      99988               0.001534            0.998466\n",
       "317696       9999               0.000681            0.999319\n",
       "317697      99990               0.000009            0.999991\n",
       "317698      99991               0.003974            0.996026\n",
       "317699      99992               0.003888            0.996112\n",
       "317700      99993               0.003793            0.996207\n",
       "317701      99994               0.003979            0.996021\n",
       "317702      99995               0.009187            0.990813\n",
       "317703      99996               0.000155            0.999845\n",
       "317704      99997               0.003969            0.996031\n",
       "317705      99998               0.999755            0.000245\n",
       "317706      99999               0.009204            0.990796\n",
       "\n",
       "[317707 rows x 3 columns]"
      ]
     },
     "execution_count": 470,
     "metadata": {},
     "output_type": "execute_result"
    }
   ],
   "source": [
    "prob1[['USER_DM_ID','CANCELLED_PROBABILITY','ACTIVE_PROBABILITY']]"
   ]
  },
  {
   "cell_type": "code",
   "execution_count": 455,
   "metadata": {},
   "outputs": [
    {
     "data": {
      "image/png": "[encoded data removed]",
      "text/plain": [
       "<Figure size 432x288 with 1 Axes>"
      ]
     },
     "metadata": {
      "needs_background": "light"
     },
     "output_type": "display_data"
    }
   ],
   "source": [
    "#import matplotlib.pyplot as plt\n",
    "#import sklearn.metrics as sm\n",
    "##Computing false and true positive rates\n",
    "fpr, tpr,_=sm.roc_curve(lr.predict(X),y,drop_intermediate=False)\n",
    "\n",
    "%matplotlib inline\n",
    "plt.figure()\n",
    "##Adding the ROC\n",
    "plt.plot(fpr, tpr, color='red',\n",
    " lw=2, label='ROC curve')\n",
    "##Random FPR and TPR\n",
    "plt.plot([0, 1], [0, 1], color='blue', lw=2, linestyle='--')\n",
    "##Title and label\n",
    "plt.xlabel('FPR')\n",
    "plt.ylabel('TPR')\n",
    "plt.title('ROC curve')\n",
    "plt.show()"
   ]
  },
  {
   "cell_type": "code",
   "execution_count": null,
   "metadata": {},
   "outputs": [],
   "source": []
  },
  {
   "cell_type": "code",
   "execution_count": 451,
   "metadata": {},
   "outputs": [],
   "source": [
    "coef_values=lr.coef_[0]\n",
    "type(coef_values)\n",
    "coef_values=pd.DataFrame({'COEF':coef_values})\n",
    "lr.coef_[0]\n",
    "col=X.columns"
   ]
  },
  {
   "cell_type": "code",
   "execution_count": 452,
   "metadata": {},
   "outputs": [],
   "source": [
    "col=pd.DataFrame({'COLUMN':col})\n",
    "col['COEF']=coef_values['COEF']"
   ]
  },
  {
   "cell_type": "code",
   "execution_count": 474,
   "metadata": {},
   "outputs": [
    {
     "data": {
      "text/html": [
       "<div>\n",
       "<style scoped>\n",
       "    .dataframe tbody tr th:only-of-type {\n",
       "        vertical-align: middle;\n",
       "    }\n",
       "\n",
       "    .dataframe tbody tr th {\n",
       "        vertical-align: top;\n",
       "    }\n",
       "\n",
       "    .dataframe thead th {\n",
       "        text-align: right;\n",
       "    }\n",
       "</style>\n",
       "<table border=\"1\" class=\"dataframe\">\n",
       "  <thead>\n",
       "    <tr style=\"text-align: right;\">\n",
       "      <th></th>\n",
       "      <th>COLUMN</th>\n",
       "      <th>COEF</th>\n",
       "    </tr>\n",
       "  </thead>\n",
       "  <tbody>\n",
       "    <tr>\n",
       "      <th>47</th>\n",
       "      <td>TOTAL_REFUNDED_AMT</td>\n",
       "      <td>-2.298668e-01</td>\n",
       "    </tr>\n",
       "    <tr>\n",
       "      <th>45</th>\n",
       "      <td>SUBCRIPTION_PRICE</td>\n",
       "      <td>-1.039498e-01</td>\n",
       "    </tr>\n",
       "    <tr>\n",
       "      <th>40</th>\n",
       "      <td>PAYMENT_SOURCE_TYPE_NOT KNOWN</td>\n",
       "      <td>-1.495039e-02</td>\n",
       "    </tr>\n",
       "    <tr>\n",
       "      <th>3</th>\n",
       "      <td>Sport name_Sport15</td>\n",
       "      <td>-1.042756e-02</td>\n",
       "    </tr>\n",
       "    <tr>\n",
       "      <th>30</th>\n",
       "      <td>WINBACK_IND_NEW USER</td>\n",
       "      <td>-8.256126e-03</td>\n",
       "    </tr>\n",
       "    <tr>\n",
       "      <th>28</th>\n",
       "      <td>DEVICE_NM_UNMAPPED</td>\n",
       "      <td>-7.647204e-03</td>\n",
       "    </tr>\n",
       "    <tr>\n",
       "      <th>44</th>\n",
       "      <td>CHARGE_COUNT</td>\n",
       "      <td>-7.299921e-03</td>\n",
       "    </tr>\n",
       "    <tr>\n",
       "      <th>32</th>\n",
       "      <td>AUTO_RENEW_STATUS_FALSE</td>\n",
       "      <td>-4.035064e-03</td>\n",
       "    </tr>\n",
       "    <tr>\n",
       "      <th>34</th>\n",
       "      <td>RENEW_IND_N</td>\n",
       "      <td>-3.164643e-03</td>\n",
       "    </tr>\n",
       "    <tr>\n",
       "      <th>35</th>\n",
       "      <td>RENEW_IND_Y</td>\n",
       "      <td>-2.137289e-03</td>\n",
       "    </tr>\n",
       "    <tr>\n",
       "      <th>29</th>\n",
       "      <td>WINBACK_IND_A</td>\n",
       "      <td>-2.049451e-03</td>\n",
       "    </tr>\n",
       "    <tr>\n",
       "      <th>33</th>\n",
       "      <td>AUTO_RENEW_STATUS_TRUE</td>\n",
       "      <td>-1.266869e-03</td>\n",
       "    </tr>\n",
       "    <tr>\n",
       "      <th>10</th>\n",
       "      <td>Sport name_Sport22</td>\n",
       "      <td>-6.629958e-04</td>\n",
       "    </tr>\n",
       "    <tr>\n",
       "      <th>18</th>\n",
       "      <td>Sport name_Sport3</td>\n",
       "      <td>-5.308707e-04</td>\n",
       "    </tr>\n",
       "    <tr>\n",
       "      <th>20</th>\n",
       "      <td>Sport name_Sport4</td>\n",
       "      <td>-3.449396e-04</td>\n",
       "    </tr>\n",
       "    <tr>\n",
       "      <th>4</th>\n",
       "      <td>Sport name_Sport16</td>\n",
       "      <td>-3.046267e-04</td>\n",
       "    </tr>\n",
       "    <tr>\n",
       "      <th>15</th>\n",
       "      <td>Sport name_Sport27</td>\n",
       "      <td>-2.775178e-04</td>\n",
       "    </tr>\n",
       "    <tr>\n",
       "      <th>9</th>\n",
       "      <td>Sport name_Sport21</td>\n",
       "      <td>-2.954473e-05</td>\n",
       "    </tr>\n",
       "    <tr>\n",
       "      <th>6</th>\n",
       "      <td>Sport name_Sport18</td>\n",
       "      <td>-1.163467e-05</td>\n",
       "    </tr>\n",
       "    <tr>\n",
       "      <th>24</th>\n",
       "      <td>DEVICE_NM_GAME_CONSOLE</td>\n",
       "      <td>-5.874941e-06</td>\n",
       "    </tr>\n",
       "    <tr>\n",
       "      <th>5</th>\n",
       "      <td>Sport name_Sport17</td>\n",
       "      <td>-5.302195e-06</td>\n",
       "    </tr>\n",
       "    <tr>\n",
       "      <th>26</th>\n",
       "      <td>DEVICE_NM_OTHER</td>\n",
       "      <td>-1.040725e-06</td>\n",
       "    </tr>\n",
       "    <tr>\n",
       "      <th>38</th>\n",
       "      <td>PAYMENT_SOURCE_TYPE_JAPANESE CREDIT BANK CARD</td>\n",
       "      <td>1.793296e-07</td>\n",
       "    </tr>\n",
       "    <tr>\n",
       "      <th>7</th>\n",
       "      <td>Sport name_Sport19</td>\n",
       "      <td>7.836064e-07</td>\n",
       "    </tr>\n",
       "    <tr>\n",
       "      <th>11</th>\n",
       "      <td>Sport name_Sport23</td>\n",
       "      <td>1.570064e-06</td>\n",
       "    </tr>\n",
       "    <tr>\n",
       "      <th>13</th>\n",
       "      <td>Sport name_Sport25</td>\n",
       "      <td>1.860893e-06</td>\n",
       "    </tr>\n",
       "    <tr>\n",
       "      <th>14</th>\n",
       "      <td>Sport name_Sport26</td>\n",
       "      <td>4.745191e-06</td>\n",
       "    </tr>\n",
       "    <tr>\n",
       "      <th>0</th>\n",
       "      <td>USER_DM_ID</td>\n",
       "      <td>2.335743e-05</td>\n",
       "    </tr>\n",
       "    <tr>\n",
       "      <th>16</th>\n",
       "      <td>Sport name_Sport28</td>\n",
       "      <td>2.674155e-05</td>\n",
       "    </tr>\n",
       "    <tr>\n",
       "      <th>22</th>\n",
       "      <td>Sport name_Sport6</td>\n",
       "      <td>2.868288e-05</td>\n",
       "    </tr>\n",
       "    <tr>\n",
       "      <th>2</th>\n",
       "      <td>Sport name_Sport12</td>\n",
       "      <td>4.502033e-05</td>\n",
       "    </tr>\n",
       "    <tr>\n",
       "      <th>37</th>\n",
       "      <td>PAYMENT_SOURCE_TYPE_DISCOVER CARD</td>\n",
       "      <td>1.471188e-04</td>\n",
       "    </tr>\n",
       "    <tr>\n",
       "      <th>19</th>\n",
       "      <td>Sport name_Sport30</td>\n",
       "      <td>2.343046e-04</td>\n",
       "    </tr>\n",
       "    <tr>\n",
       "      <th>12</th>\n",
       "      <td>Sport name_Sport24</td>\n",
       "      <td>5.121284e-04</td>\n",
       "    </tr>\n",
       "    <tr>\n",
       "      <th>27</th>\n",
       "      <td>DEVICE_NM_TABLET</td>\n",
       "      <td>5.747194e-04</td>\n",
       "    </tr>\n",
       "    <tr>\n",
       "      <th>8</th>\n",
       "      <td>Sport name_Sport2</td>\n",
       "      <td>6.135900e-04</td>\n",
       "    </tr>\n",
       "    <tr>\n",
       "      <th>25</th>\n",
       "      <td>DEVICE_NM_MOBILE</td>\n",
       "      <td>1.246053e-03</td>\n",
       "    </tr>\n",
       "    <tr>\n",
       "      <th>23</th>\n",
       "      <td>DEVICE_NM_DESKTOP</td>\n",
       "      <td>1.320706e-03</td>\n",
       "    </tr>\n",
       "    <tr>\n",
       "      <th>36</th>\n",
       "      <td>PAYMENT_SOURCE_TYPE_AMERICAN EXPRESS CARD</td>\n",
       "      <td>1.376384e-03</td>\n",
       "    </tr>\n",
       "    <tr>\n",
       "      <th>39</th>\n",
       "      <td>PAYMENT_SOURCE_TYPE_MASTERCARD CARD</td>\n",
       "      <td>1.429825e-03</td>\n",
       "    </tr>\n",
       "    <tr>\n",
       "      <th>17</th>\n",
       "      <td>Sport name_Sport29</td>\n",
       "      <td>1.511952e-03</td>\n",
       "    </tr>\n",
       "    <tr>\n",
       "      <th>21</th>\n",
       "      <td>Sport name_Sport5</td>\n",
       "      <td>1.563799e-03</td>\n",
       "    </tr>\n",
       "    <tr>\n",
       "      <th>1</th>\n",
       "      <td>Sport name_Sport1</td>\n",
       "      <td>2.747878e-03</td>\n",
       "    </tr>\n",
       "    <tr>\n",
       "      <th>41</th>\n",
       "      <td>PAYMENT_SOURCE_TYPE_PAYPAL</td>\n",
       "      <td>2.842089e-03</td>\n",
       "    </tr>\n",
       "    <tr>\n",
       "      <th>42</th>\n",
       "      <td>PAYMENT_SOURCE_TYPE_VISA CARD</td>\n",
       "      <td>3.852865e-03</td>\n",
       "    </tr>\n",
       "    <tr>\n",
       "      <th>31</th>\n",
       "      <td>WINBACK_IND_W</td>\n",
       "      <td>5.003644e-03</td>\n",
       "    </tr>\n",
       "    <tr>\n",
       "      <th>43</th>\n",
       "      <td>UNIQUE_SUB_COUNT</td>\n",
       "      <td>5.792193e-03</td>\n",
       "    </tr>\n",
       "    <tr>\n",
       "      <th>48</th>\n",
       "      <td>ACTIVE_DAYS</td>\n",
       "      <td>2.340962e-02</td>\n",
       "    </tr>\n",
       "    <tr>\n",
       "      <th>46</th>\n",
       "      <td>TOTAL_CHARGED_AMT</td>\n",
       "      <td>8.010327e-02</td>\n",
       "    </tr>\n",
       "  </tbody>\n",
       "</table>\n",
       "</div>"
      ],
      "text/plain": [
       "                                           COLUMN          COEF\n",
       "47                             TOTAL_REFUNDED_AMT -2.298668e-01\n",
       "45                              SUBCRIPTION_PRICE -1.039498e-01\n",
       "40                  PAYMENT_SOURCE_TYPE_NOT KNOWN -1.495039e-02\n",
       "3                              Sport name_Sport15 -1.042756e-02\n",
       "30                           WINBACK_IND_NEW USER -8.256126e-03\n",
       "28                             DEVICE_NM_UNMAPPED -7.647204e-03\n",
       "44                                   CHARGE_COUNT -7.299921e-03\n",
       "32                        AUTO_RENEW_STATUS_FALSE -4.035064e-03\n",
       "34                                    RENEW_IND_N -3.164643e-03\n",
       "35                                    RENEW_IND_Y -2.137289e-03\n",
       "29                                  WINBACK_IND_A -2.049451e-03\n",
       "33                         AUTO_RENEW_STATUS_TRUE -1.266869e-03\n",
       "10                             Sport name_Sport22 -6.629958e-04\n",
       "18                              Sport name_Sport3 -5.308707e-04\n",
       "20                              Sport name_Sport4 -3.449396e-04\n",
       "4                              Sport name_Sport16 -3.046267e-04\n",
       "15                             Sport name_Sport27 -2.775178e-04\n",
       "9                              Sport name_Sport21 -2.954473e-05\n",
       "6                              Sport name_Sport18 -1.163467e-05\n",
       "24                         DEVICE_NM_GAME_CONSOLE -5.874941e-06\n",
       "5                              Sport name_Sport17 -5.302195e-06\n",
       "26                                DEVICE_NM_OTHER -1.040725e-06\n",
       "38  PAYMENT_SOURCE_TYPE_JAPANESE CREDIT BANK CARD  1.793296e-07\n",
       "7                              Sport name_Sport19  7.836064e-07\n",
       "11                             Sport name_Sport23  1.570064e-06\n",
       "13                             Sport name_Sport25  1.860893e-06\n",
       "14                             Sport name_Sport26  4.745191e-06\n",
       "0                                      USER_DM_ID  2.335743e-05\n",
       "16                             Sport name_Sport28  2.674155e-05\n",
       "22                              Sport name_Sport6  2.868288e-05\n",
       "2                              Sport name_Sport12  4.502033e-05\n",
       "37              PAYMENT_SOURCE_TYPE_DISCOVER CARD  1.471188e-04\n",
       "19                             Sport name_Sport30  2.343046e-04\n",
       "12                             Sport name_Sport24  5.121284e-04\n",
       "27                               DEVICE_NM_TABLET  5.747194e-04\n",
       "8                               Sport name_Sport2  6.135900e-04\n",
       "25                               DEVICE_NM_MOBILE  1.246053e-03\n",
       "23                              DEVICE_NM_DESKTOP  1.320706e-03\n",
       "36      PAYMENT_SOURCE_TYPE_AMERICAN EXPRESS CARD  1.376384e-03\n",
       "39            PAYMENT_SOURCE_TYPE_MASTERCARD CARD  1.429825e-03\n",
       "17                             Sport name_Sport29  1.511952e-03\n",
       "21                              Sport name_Sport5  1.563799e-03\n",
       "1                               Sport name_Sport1  2.747878e-03\n",
       "41                     PAYMENT_SOURCE_TYPE_PAYPAL  2.842089e-03\n",
       "42                  PAYMENT_SOURCE_TYPE_VISA CARD  3.852865e-03\n",
       "31                                  WINBACK_IND_W  5.003644e-03\n",
       "43                               UNIQUE_SUB_COUNT  5.792193e-03\n",
       "48                                    ACTIVE_DAYS  2.340962e-02\n",
       "46                              TOTAL_CHARGED_AMT  8.010327e-02"
      ]
     },
     "execution_count": 474,
     "metadata": {},
     "output_type": "execute_result"
    }
   ],
   "source": [
    "col.sort_values(by=['COEF'])"
   ]
  },
  {
   "cell_type": "code",
   "execution_count": 475,
   "metadata": {},
   "outputs": [
    {
     "data": {
      "text/plain": [
       "(317707, 50)"
      ]
     },
     "execution_count": 475,
     "metadata": {},
     "output_type": "execute_result"
    }
   ],
   "source": [
    "new_df.shape"
   ]
  },
  {
   "cell_type": "code",
   "execution_count": 45,
   "metadata": {},
   "outputs": [
    {
     "data": {
      "text/plain": [
       "{'C': 1.0,\n",
       " 'class_weight': None,\n",
       " 'dual': False,\n",
       " 'fit_intercept': True,\n",
       " 'intercept_scaling': 1,\n",
       " 'max_iter': 1000,\n",
       " 'multi_class': 'warn',\n",
       " 'n_jobs': None,\n",
       " 'penalty': 'l2',\n",
       " 'random_state': None,\n",
       " 'solver': 'warn',\n",
       " 'tol': 0.0001,\n",
       " 'verbose': 0,\n",
       " 'warm_start': False}"
      ]
     },
     "execution_count": 45,
     "metadata": {},
     "output_type": "execute_result"
    }
   ],
   "source": [
    "lr.get_params()"
   ]
  },
  {
   "cell_type": "code",
   "execution_count": 496,
   "metadata": {},
   "outputs": [
    {
     "data": {
      "text/plain": [
       "array([[-1.01756055e+01, -3.80889470e-05],\n",
       "       [-1.22552011e+01, -4.76030545e-06],\n",
       "       [-1.21055367e+01, -5.52883229e-06],\n",
       "       ...,\n",
       "       [-1.06965587e+01, -2.26229122e-05],\n",
       "       [-5.53901369e-12, -2.59192047e+01],\n",
       "       [-9.98328212e+00, -4.61663660e-05]])"
      ]
     },
     "execution_count": 496,
     "metadata": {},
     "output_type": "execute_result"
    }
   ],
   "source": [
    "lr.predict_log_proba(X)"
   ]
  },
  {
   "cell_type": "code",
   "execution_count": 608,
   "metadata": {},
   "outputs": [
    {
     "data": {
      "text/plain": [
       "array([ 2.14287703,  2.38573681,  2.57263654, ...,  4.06924479,\n",
       "       -9.55797504,  4.04340846])"
      ]
     },
     "execution_count": 608,
     "metadata": {},
     "output_type": "execute_result"
    }
   ],
   "source": [
    "lr.decision_function(X)"
   ]
  },
  {
   "cell_type": "code",
   "execution_count": 472,
   "metadata": {},
   "outputs": [
    {
     "data": {
      "text/plain": [
       "0.99582319558587"
      ]
     },
     "execution_count": 472,
     "metadata": {},
     "output_type": "execute_result"
    }
   ],
   "source": [
    "lr.score(X,y)"
   ]
  },
  {
   "cell_type": "code",
   "execution_count": 641,
   "metadata": {},
   "outputs": [
    {
     "data": {
      "text/plain": [
       "{'C': 1.0,\n",
       " 'class_weight': None,\n",
       " 'dual': False,\n",
       " 'fit_intercept': True,\n",
       " 'intercept_scaling': 1,\n",
       " 'max_iter': 1000,\n",
       " 'multi_class': 'warn',\n",
       " 'n_jobs': None,\n",
       " 'penalty': 'l2',\n",
       " 'random_state': None,\n",
       " 'solver': 'warn',\n",
       " 'tol': 0.0001,\n",
       " 'verbose': 0,\n",
       " 'warm_start': False}"
      ]
     },
     "execution_count": 641,
     "metadata": {},
     "output_type": "execute_result"
    }
   ],
   "source": [
    "lr.get_params()"
   ]
  },
  {
   "cell_type": "code",
   "execution_count": 276,
   "metadata": {},
   "outputs": [
    {
     "data": {
      "text/plain": [
       "array([0.02345789])"
      ]
     },
     "execution_count": 276,
     "metadata": {},
     "output_type": "execute_result"
    }
   ],
   "source": [
    "lr.intercept_"
   ]
  },
  {
   "cell_type": "code",
   "execution_count": 299,
   "metadata": {},
   "outputs": [],
   "source": [
    "import seaborn as sns"
   ]
  },
  {
   "cell_type": "code",
   "execution_count": 305,
   "metadata": {},
   "outputs": [],
   "source": [
    "%matplotlib inline"
   ]
  },
  {
   "cell_type": "code",
   "execution_count": 306,
   "metadata": {},
   "outputs": [
    {
     "data": {
      "text/plain": [
       "<matplotlib.axes._subplots.AxesSubplot at 0x1a2a3b92668>"
      ]
     },
     "execution_count": 306,
     "metadata": {},
     "output_type": "execute_result"
    },
    {
     "data": {
      "image/png": "[encoded data removed]",
      "text/plain": [
       "<Figure size 432x288 with 1 Axes>"
      ]
     },
     "metadata": {
      "needs_background": "light"
     },
     "output_type": "display_data"
    }
   ],
   "source": [
    "sns.heatmap(X.isnull(),yticklabels=False,cbar=False,cmap='viridis')"
   ]
  },
  {
   "cell_type": "code",
   "execution_count": 307,
   "metadata": {},
   "outputs": [],
   "source": [
    "sns.set_style('whitegrid')"
   ]
  },
  {
   "cell_type": "code",
   "execution_count": 314,
   "metadata": {},
   "outputs": [
    {
     "data": {
      "text/plain": [
       "<matplotlib.axes._subplots.AxesSubplot at 0x1a2a3b53128>"
      ]
     },
     "execution_count": 314,
     "metadata": {},
     "output_type": "execute_result"
    },
    {
     "data": {
      "image/png": "[encoded data removed]",
      "text/plain": [
       "<Figure size 432x288 with 1 Axes>"
      ]
     },
     "metadata": {},
     "output_type": "display_data"
    }
   ],
   "source": [
    "sns.countplot(x='USER_STATUS',hue='AUTO_RENEW_STATUS_TRUE',data=new_df)"
   ]
  },
  {
   "cell_type": "code",
   "execution_count": 329,
   "metadata": {},
   "outputs": [
    {
     "data": {
      "text/plain": [
       "<matplotlib.axes._subplots.AxesSubplot at 0x1a2a81ac6a0>"
      ]
     },
     "execution_count": 329,
     "metadata": {},
     "output_type": "execute_result"
    },
    {
     "data": {
      "image/png": "[encoded data removed]",
      "text/plain": [
       "<Figure size 432x288 with 1 Axes>"
      ]
     },
     "metadata": {},
     "output_type": "display_data"
    }
   ],
   "source": [
    "sns.countplot(x='Sport name',hue='DATA_SOURCE_STATUS',data=df)"
   ]
  },
  {
   "cell_type": "code",
   "execution_count": 326,
   "metadata": {},
   "outputs": [
    {
     "data": {
      "text/plain": [
       "<matplotlib.axes._subplots.AxesSubplot at 0x1a2a83762b0>"
      ]
     },
     "execution_count": 326,
     "metadata": {},
     "output_type": "execute_result"
    },
    {
     "data": {
      "image/png": "[encoded data removed]",
      "text/plain": [
       "<Figure size 432x288 with 1 Axes>"
      ]
     },
     "metadata": {},
     "output_type": "display_data"
    }
   ],
   "source": [
    "new_df['UNIQUE_SUB_COUNT'].plot.hist()"
   ]
  },
  {
   "cell_type": "code",
   "execution_count": 320,
   "metadata": {},
   "outputs": [
    {
     "data": {
      "text/plain": [
       "<matplotlib.axes._subplots.AxesSubplot at 0x1a2a7b972e8>"
      ]
     },
     "execution_count": 320,
     "metadata": {},
     "output_type": "execute_result"
    },
    {
     "data": {
      "image/png": "[encoded data removed]",
      "text/plain": [
       "<Figure size 432x288 with 1 Axes>"
      ]
     },
     "metadata": {},
     "output_type": "display_data"
    }
   ],
   "source": [
    "sns.distplot(new_df['USER_STATUS'],kde=False,bins=30)"
   ]
  },
  {
   "cell_type": "raw",
   "metadata": {},
   "source": [
    "new_df.info()"
   ]
  },
  {
   "cell_type": "code",
   "execution_count": 333,
   "metadata": {},
   "outputs": [
    {
     "data": {
      "text/plain": [
       "<matplotlib.axes._subplots.AxesSubplot at 0x1a2e969fd68>"
      ]
     },
     "execution_count": 333,
     "metadata": {},
     "output_type": "execute_result"
    },
    {
     "data": {
      "image/png": "[encoded data removed]",
      "text/plain": [
       "<Figure size 432x288 with 1 Axes>"
      ]
     },
     "metadata": {},
     "output_type": "display_data"
    }
   ],
   "source": [
    "sns.boxplot(x='USER_STATUS',y='AUTO_RENEW_STATUS_TRUE',data=new_df)"
   ]
  },
  {
   "cell_type": "code",
   "execution_count": 90,
   "metadata": {},
   "outputs": [],
   "source": [
    "varlist=['Sport name','RENEW_IND','AUTO_RENEW_STATUS','CAMPAIGN_DM_ID','PROMO_CODE','TAX_COUNTRY','BATCH_ID','WINBACK_IND','PAYMENT_SOURCE_TYPE','DEVICE_NM','CURRENCY_NM']\n",
    "target='DATA_SOURCE_STATUS'\n",
    "dum=['RENEW_IND','AUTO_RENEW_STATUS']"
   ]
  },
  {
   "cell_type": "code",
   "execution_count": 129,
   "metadata": {},
   "outputs": [
    {
     "data": {
      "text/html": [
       "<div>\n",
       "<style scoped>\n",
       "    .dataframe tbody tr th:only-of-type {\n",
       "        vertical-align: middle;\n",
       "    }\n",
       "\n",
       "    .dataframe tbody tr th {\n",
       "        vertical-align: top;\n",
       "    }\n",
       "\n",
       "    .dataframe thead tr th {\n",
       "        text-align: left;\n",
       "    }\n",
       "\n",
       "    .dataframe thead tr:last-of-type th {\n",
       "        text-align: right;\n",
       "    }\n",
       "</style>\n",
       "<table border=\"1\" class=\"dataframe\">\n",
       "  <thead>\n",
       "    <tr>\n",
       "      <th>AUTO_RENEW_STATUS</th>\n",
       "      <th colspan=\"7\" halign=\"left\">FALSE</th>\n",
       "      <th colspan=\"7\" halign=\"left\">TRUE</th>\n",
       "    </tr>\n",
       "    <tr>\n",
       "      <th>DEVICE_NM</th>\n",
       "      <th>DESKTOP</th>\n",
       "      <th>GAME_CONSOLE</th>\n",
       "      <th>INVALID</th>\n",
       "      <th>MOBILE</th>\n",
       "      <th>OTHER</th>\n",
       "      <th>TABLET</th>\n",
       "      <th>UNMAPPED</th>\n",
       "      <th>DESKTOP</th>\n",
       "      <th>GAME_CONSOLE</th>\n",
       "      <th>INVALID</th>\n",
       "      <th>MOBILE</th>\n",
       "      <th>OTHER</th>\n",
       "      <th>TABLET</th>\n",
       "      <th>UNMAPPED</th>\n",
       "    </tr>\n",
       "    <tr>\n",
       "      <th>DATA_SOURCE_STATUS</th>\n",
       "      <th></th>\n",
       "      <th></th>\n",
       "      <th></th>\n",
       "      <th></th>\n",
       "      <th></th>\n",
       "      <th></th>\n",
       "      <th></th>\n",
       "      <th></th>\n",
       "      <th></th>\n",
       "      <th></th>\n",
       "      <th></th>\n",
       "      <th></th>\n",
       "      <th></th>\n",
       "      <th></th>\n",
       "    </tr>\n",
       "  </thead>\n",
       "  <tbody>\n",
       "    <tr>\n",
       "      <th>ACTIVE</th>\n",
       "      <td>6807</td>\n",
       "      <td>4</td>\n",
       "      <td>5107</td>\n",
       "      <td>1879</td>\n",
       "      <td>1</td>\n",
       "      <td>892</td>\n",
       "      <td>530</td>\n",
       "      <td>96268</td>\n",
       "      <td>67</td>\n",
       "      <td>84565</td>\n",
       "      <td>53076</td>\n",
       "      <td>2</td>\n",
       "      <td>19025</td>\n",
       "      <td>92517</td>\n",
       "    </tr>\n",
       "    <tr>\n",
       "      <th>CANCELLED</th>\n",
       "      <td>1308</td>\n",
       "      <td>1</td>\n",
       "      <td>552</td>\n",
       "      <td>539</td>\n",
       "      <td>1</td>\n",
       "      <td>204</td>\n",
       "      <td>242</td>\n",
       "      <td>1300</td>\n",
       "      <td>0</td>\n",
       "      <td>660</td>\n",
       "      <td>711</td>\n",
       "      <td>0</td>\n",
       "      <td>242</td>\n",
       "      <td>1187</td>\n",
       "    </tr>\n",
       "    <tr>\n",
       "      <th>EXPIRED</th>\n",
       "      <td>16</td>\n",
       "      <td>0</td>\n",
       "      <td>0</td>\n",
       "      <td>21</td>\n",
       "      <td>0</td>\n",
       "      <td>4</td>\n",
       "      <td>1</td>\n",
       "      <td>0</td>\n",
       "      <td>0</td>\n",
       "      <td>0</td>\n",
       "      <td>0</td>\n",
       "      <td>0</td>\n",
       "      <td>0</td>\n",
       "      <td>0</td>\n",
       "    </tr>\n",
       "    <tr>\n",
       "      <th>PAYMENT FAILURE</th>\n",
       "      <td>0</td>\n",
       "      <td>0</td>\n",
       "      <td>0</td>\n",
       "      <td>0</td>\n",
       "      <td>0</td>\n",
       "      <td>0</td>\n",
       "      <td>0</td>\n",
       "      <td>7</td>\n",
       "      <td>0</td>\n",
       "      <td>0</td>\n",
       "      <td>6</td>\n",
       "      <td>0</td>\n",
       "      <td>1</td>\n",
       "      <td>101</td>\n",
       "    </tr>\n",
       "  </tbody>\n",
       "</table>\n",
       "</div>"
      ],
      "text/plain": [
       "AUTO_RENEW_STATUS    FALSE                                                    \\\n",
       "DEVICE_NM          DESKTOP GAME_CONSOLE INVALID MOBILE OTHER TABLET UNMAPPED   \n",
       "DATA_SOURCE_STATUS                                                             \n",
       "ACTIVE                6807            4    5107   1879     1    892      530   \n",
       "CANCELLED             1308            1     552    539     1    204      242   \n",
       "EXPIRED                 16            0       0     21     0      4        1   \n",
       "PAYMENT FAILURE          0            0       0      0     0      0        0   \n",
       "\n",
       "AUTO_RENEW_STATUS     TRUE                                                    \n",
       "DEVICE_NM          DESKTOP GAME_CONSOLE INVALID MOBILE OTHER TABLET UNMAPPED  \n",
       "DATA_SOURCE_STATUS                                                            \n",
       "ACTIVE               96268           67   84565  53076     2  19025    92517  \n",
       "CANCELLED             1300            0     660    711     0    242     1187  \n",
       "EXPIRED                  0            0       0      0     0      0        0  \n",
       "PAYMENT FAILURE          7            0       0      6     0      1      101  "
      ]
     },
     "execution_count": 129,
     "metadata": {},
     "output_type": "execute_result"
    }
   ],
   "source": [
    "pd.crosstab(df['DATA_SOURCE_STATUS'],[df['AUTO_RENEW_STATUS'],df['DEVICE_NM']])"
   ]
  },
  {
   "cell_type": "code",
   "execution_count": 93,
   "metadata": {},
   "outputs": [],
   "source": [
    "def cross_tab_fun(li,target):\n",
    "    for i in li:\n",
    "        res=pd.crosstab(df[target],df[i])\n",
    "        print(res)"
   ]
  },
  {
   "cell_type": "code",
   "execution_count": 94,
   "metadata": {},
   "outputs": [
    {
     "name": "stdout",
     "output_type": "stream",
     "text": [
      "RENEW_IND                N       Y\n",
      "DATA_SOURCE_STATUS                \n",
      "ACTIVE              234342  126398\n",
      "CANCELLED             2457    4490\n",
      "EXPIRED                 34       8\n",
      "PAYMENT FAILURE        111       4\n",
      "AUTO_RENEW_STATUS   FALSE    TRUE\n",
      "DATA_SOURCE_STATUS               \n",
      "ACTIVE              15220  345520\n",
      "CANCELLED            2847    4100\n",
      "EXPIRED                42       0\n",
      "PAYMENT FAILURE         0     115\n"
     ]
    }
   ],
   "source": [
    "cross_tab_fun(dum,target)"
   ]
  },
  {
   "cell_type": "code",
   "execution_count": 99,
   "metadata": {},
   "outputs": [],
   "source": [
    "res= pd.crosstab(df.AUTO_RENEW_STATUS,[df.DATA_SOURCE_STATUS])"
   ]
  },
  {
   "cell_type": "code",
   "execution_count": 104,
   "metadata": {},
   "outputs": [
    {
     "data": {
      "text/html": [
       "<div>\n",
       "<style scoped>\n",
       "    .dataframe tbody tr th:only-of-type {\n",
       "        vertical-align: middle;\n",
       "    }\n",
       "\n",
       "    .dataframe tbody tr th {\n",
       "        vertical-align: top;\n",
       "    }\n",
       "\n",
       "    .dataframe thead th {\n",
       "        text-align: right;\n",
       "    }\n",
       "</style>\n",
       "<table border=\"1\" class=\"dataframe\">\n",
       "  <thead>\n",
       "    <tr style=\"text-align: right;\">\n",
       "      <th>DATA_SOURCE_STATUS</th>\n",
       "      <th>ACTIVE</th>\n",
       "      <th>CANCELLED</th>\n",
       "      <th>EXPIRED</th>\n",
       "      <th>PAYMENT FAILURE</th>\n",
       "    </tr>\n",
       "    <tr>\n",
       "      <th>AUTO_RENEW_STATUS</th>\n",
       "      <th></th>\n",
       "      <th></th>\n",
       "      <th></th>\n",
       "      <th></th>\n",
       "    </tr>\n",
       "  </thead>\n",
       "  <tbody>\n",
       "    <tr>\n",
       "      <th>FALSE</th>\n",
       "      <td>15220</td>\n",
       "      <td>2847</td>\n",
       "      <td>42</td>\n",
       "      <td>0</td>\n",
       "    </tr>\n",
       "    <tr>\n",
       "      <th>TRUE</th>\n",
       "      <td>345520</td>\n",
       "      <td>4100</td>\n",
       "      <td>0</td>\n",
       "      <td>115</td>\n",
       "    </tr>\n",
       "  </tbody>\n",
       "</table>\n",
       "</div>"
      ],
      "text/plain": [
       "DATA_SOURCE_STATUS  ACTIVE  CANCELLED  EXPIRED  PAYMENT FAILURE\n",
       "AUTO_RENEW_STATUS                                              \n",
       "FALSE                15220       2847       42                0\n",
       "TRUE                345520       4100        0              115"
      ]
     },
     "execution_count": 104,
     "metadata": {},
     "output_type": "execute_result"
    }
   ],
   "source": [
    "res\n"
   ]
  }
 ],
 "metadata": {
  "kernelspec": {
   "display_name": "Python 3",
   "language": "python",
   "name": "python3"
  },
  "language_info": {
   "codemirror_mode": {
    "name": "ipython",
    "version": 3
   },
   "file_extension": ".py",
   "mimetype": "text/x-python",
   "name": "python",
   "nbconvert_exporter": "python",
   "pygments_lexer": "ipython3",
   "version": "3.7.1"
  }
 },
 "nbformat": 4,
 "nbformat_minor": 2
}
