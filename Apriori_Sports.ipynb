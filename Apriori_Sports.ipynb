{
 "cells": [
  {
   "cell_type": "code",
   "execution_count": 1,
   "metadata": {},
   "outputs": [],
   "source": [
    "# Apriori\n",
    "# Importing the libraries\n",
    "import numpy as np\n",
    "import matplotlib.pyplot as plt\n",
    "import pandas as pd\n",
    "from apyori import apriori\n",
    "# Loading the data to a dataframe\n",
    "df = pd.read_excel(r\"C:\\Users\\bhavrang\\Desktop\\bhavya\\Analytics\\NBCdata.xlsx\")"
   ]
  },
  {
   "cell_type": "code",
   "execution_count": 2,
   "metadata": {},
   "outputs": [
    {
     "data": {
      "text/plain": [
       "355266"
      ]
     },
     "execution_count": 2,
     "metadata": {},
     "output_type": "execute_result"
    }
   ],
   "source": [
    "len(df.SUBSCRIPTION_ID.unique())"
   ]
  },
  {
   "cell_type": "code",
   "execution_count": 3,
   "metadata": {},
   "outputs": [
    {
     "data": {
      "text/plain": [
       "367844"
      ]
     },
     "execution_count": 3,
     "metadata": {},
     "output_type": "execute_result"
    }
   ],
   "source": [
    "len(df.GOLD_SUBSCRIPTION_ID.unique())"
   ]
  },
  {
   "cell_type": "code",
   "execution_count": 4,
   "metadata": {},
   "outputs": [],
   "source": [
    "#to get the data at sportlevel along with userids\n",
    "ndf=df.copy()\n",
    "#ndf=ndf[(ndf['DATA_SOURCE_STATUS']!='PAYMENT FAILURE')&(ndf['CURRENCY_NM']=='USD')][['USER_DM_ID','Sport name']]\n",
    "spdf=ndf.groupby('USER_DM_ID')['Sport name'].unique().reset_index(name='sports')"
   ]
  },
  {
   "cell_type": "code",
   "execution_count": 5,
   "metadata": {},
   "outputs": [
    {
     "data": {
      "text/plain": [
       "(318293, 2)"
      ]
     },
     "execution_count": 5,
     "metadata": {},
     "output_type": "execute_result"
    }
   ],
   "source": [
    "spdf.shape"
   ]
  },
  {
   "cell_type": "code",
   "execution_count": 6,
   "metadata": {},
   "outputs": [
    {
     "data": {
      "text/html": [
       "<div>\n",
       "<style scoped>\n",
       "    .dataframe tbody tr th:only-of-type {\n",
       "        vertical-align: middle;\n",
       "    }\n",
       "\n",
       "    .dataframe tbody tr th {\n",
       "        vertical-align: top;\n",
       "    }\n",
       "\n",
       "    .dataframe thead th {\n",
       "        text-align: right;\n",
       "    }\n",
       "</style>\n",
       "<table border=\"1\" class=\"dataframe\">\n",
       "  <thead>\n",
       "    <tr style=\"text-align: right;\">\n",
       "      <th></th>\n",
       "      <th>USER_DM_ID</th>\n",
       "      <th>sports</th>\n",
       "    </tr>\n",
       "  </thead>\n",
       "  <tbody>\n",
       "    <tr>\n",
       "      <th>0</th>\n",
       "      <td>1</td>\n",
       "      <td>[Sport5]</td>\n",
       "    </tr>\n",
       "    <tr>\n",
       "      <th>1</th>\n",
       "      <td>3</td>\n",
       "      <td>[Sport1]</td>\n",
       "    </tr>\n",
       "    <tr>\n",
       "      <th>2</th>\n",
       "      <td>4</td>\n",
       "      <td>[Sport4]</td>\n",
       "    </tr>\n",
       "    <tr>\n",
       "      <th>3</th>\n",
       "      <td>5</td>\n",
       "      <td>[Sport5]</td>\n",
       "    </tr>\n",
       "    <tr>\n",
       "      <th>4</th>\n",
       "      <td>6</td>\n",
       "      <td>[Sport1]</td>\n",
       "    </tr>\n",
       "  </tbody>\n",
       "</table>\n",
       "</div>"
      ],
      "text/plain": [
       "   USER_DM_ID    sports\n",
       "0           1  [Sport5]\n",
       "1           3  [Sport1]\n",
       "2           4  [Sport4]\n",
       "3           5  [Sport5]\n",
       "4           6  [Sport1]"
      ]
     },
     "execution_count": 6,
     "metadata": {},
     "output_type": "execute_result"
    }
   ],
   "source": [
    "spdf.head()"
   ]
  },
  {
   "cell_type": "code",
   "execution_count": 8,
   "metadata": {},
   "outputs": [],
   "source": [
    "#rs=spdf[spdf.sports.map(len)>1]"
   ]
  },
  {
   "cell_type": "code",
   "execution_count": 7,
   "metadata": {},
   "outputs": [],
   "source": [
    "#building aproyori algorithm and converting the resultant rules to dataframe\n",
    "from apyori import apriori\n",
    "rules = apriori(spdf['sports'],min_length=3,min_confidence=0.000001,min_support=0.000001,min_lift=0.000001) \n",
    "results = list(rules)\n",
    "df_rules=pd.DataFrame(results)"
   ]
  },
  {
   "cell_type": "code",
   "execution_count": 8,
   "metadata": {},
   "outputs": [],
   "source": [
    "#adding 2 more columns to rules\n",
    "df_rules['length']=df_rules['items'].apply(lambda x:len(x))\n",
    "df_rules['items']=df_rules['items'].apply(lambda x :list(x))"
   ]
  },
  {
   "cell_type": "code",
   "execution_count": 9,
   "metadata": {},
   "outputs": [
    {
     "data": {
      "text/html": [
       "<div>\n",
       "<style scoped>\n",
       "    .dataframe tbody tr th:only-of-type {\n",
       "        vertical-align: middle;\n",
       "    }\n",
       "\n",
       "    .dataframe tbody tr th {\n",
       "        vertical-align: top;\n",
       "    }\n",
       "\n",
       "    .dataframe thead th {\n",
       "        text-align: right;\n",
       "    }\n",
       "</style>\n",
       "<table border=\"1\" class=\"dataframe\">\n",
       "  <thead>\n",
       "    <tr style=\"text-align: right;\">\n",
       "      <th></th>\n",
       "      <th>items</th>\n",
       "      <th>support</th>\n",
       "      <th>ordered_statistics</th>\n",
       "      <th>length</th>\n",
       "    </tr>\n",
       "  </thead>\n",
       "  <tbody>\n",
       "    <tr>\n",
       "      <th>0</th>\n",
       "      <td>[Sport1]</td>\n",
       "      <td>0.217897</td>\n",
       "      <td>[((), (Sport1), 0.2178967178040359, 1.0)]</td>\n",
       "      <td>1</td>\n",
       "    </tr>\n",
       "    <tr>\n",
       "      <th>1</th>\n",
       "      <td>[Sport12]</td>\n",
       "      <td>0.002381</td>\n",
       "      <td>[((), (Sport12), 0.0023814535663680947, 1.0)]</td>\n",
       "      <td>1</td>\n",
       "    </tr>\n",
       "    <tr>\n",
       "      <th>2</th>\n",
       "      <td>[Sport15]</td>\n",
       "      <td>0.052181</td>\n",
       "      <td>[((), (Sport15), 0.05218148058549827, 1.0)]</td>\n",
       "      <td>1</td>\n",
       "    </tr>\n",
       "    <tr>\n",
       "      <th>3</th>\n",
       "      <td>[Sport16]</td>\n",
       "      <td>0.001009</td>\n",
       "      <td>[((), (Sport16), 0.0010085047424856972, 1.0)]</td>\n",
       "      <td>1</td>\n",
       "    </tr>\n",
       "    <tr>\n",
       "      <th>4</th>\n",
       "      <td>[Sport17]</td>\n",
       "      <td>0.000704</td>\n",
       "      <td>[((), (Sport17), 0.0007037540882143182, 1.0)]</td>\n",
       "      <td>1</td>\n",
       "    </tr>\n",
       "  </tbody>\n",
       "</table>\n",
       "</div>"
      ],
      "text/plain": [
       "       items   support                             ordered_statistics  length\n",
       "0   [Sport1]  0.217897      [((), (Sport1), 0.2178967178040359, 1.0)]       1\n",
       "1  [Sport12]  0.002381  [((), (Sport12), 0.0023814535663680947, 1.0)]       1\n",
       "2  [Sport15]  0.052181    [((), (Sport15), 0.05218148058549827, 1.0)]       1\n",
       "3  [Sport16]  0.001009  [((), (Sport16), 0.0010085047424856972, 1.0)]       1\n",
       "4  [Sport17]  0.000704  [((), (Sport17), 0.0007037540882143182, 1.0)]       1"
      ]
     },
     "execution_count": 9,
     "metadata": {},
     "output_type": "execute_result"
    }
   ],
   "source": [
    "df_rules.head()"
   ]
  },
  {
   "cell_type": "code",
   "execution_count": 6,
   "metadata": {},
   "outputs": [],
   "source": [
    "#To get the rules only with association more than 1\n",
    "#dff=dff[dff['length']>1]"
   ]
  },
  {
   "cell_type": "raw",
   "metadata": {
    "scrolled": true
   },
   "source": [
    "df_rules.sort_values(by=['support'],ascending=False)\n",
    "#dff[22:97]"
   ]
  },
  {
   "cell_type": "code",
   "execution_count": 11,
   "metadata": {},
   "outputs": [],
   "source": [
    "#to convert ordered statistics rules into another dataframe\n",
    "stat_rules=pd.DataFrame()\n",
    "dummy=pd.DataFrame()\n",
    "l=df_rules.shape[0]\n",
    "for i in range(l):\n",
    "    dummy=pd.DataFrame(df_rules['ordered_statistics'][i])\n",
    "    stat_rules = stat_rules.append(dummy,ignore_index=True)"
   ]
  },
  {
   "cell_type": "raw",
   "metadata": {},
   "source": [
    "data['base_item']=data['items_base'].apply(lambda x: list(x))\n",
    "data['addded_item']=data['items_add'].apply(lambda x: list(x))"
   ]
  },
  {
   "cell_type": "code",
   "execution_count": 13,
   "metadata": {},
   "outputs": [],
   "source": [
    "#to convert the list of sports from tuple to list\n",
    "stat_rules['items_base']=stat_rules['items_base'].apply(lambda x :list(x))\n",
    "stat_rules['items_add']=stat_rules['items_add'].apply(lambda x :list(x))\n",
    "#to add extra column to stat_rules to join with original rules\n",
    "stat_rules['items']=stat_rules['items_base']+stat_rules['items_add']"
   ]
  },
  {
   "cell_type": "code",
   "execution_count": 14,
   "metadata": {},
   "outputs": [
    {
     "data": {
      "text/html": [
       "<div>\n",
       "<style scoped>\n",
       "    .dataframe tbody tr th:only-of-type {\n",
       "        vertical-align: middle;\n",
       "    }\n",
       "\n",
       "    .dataframe tbody tr th {\n",
       "        vertical-align: top;\n",
       "    }\n",
       "\n",
       "    .dataframe thead th {\n",
       "        text-align: right;\n",
       "    }\n",
       "</style>\n",
       "<table border=\"1\" class=\"dataframe\">\n",
       "  <thead>\n",
       "    <tr style=\"text-align: right;\">\n",
       "      <th></th>\n",
       "      <th>items_base</th>\n",
       "      <th>items_add</th>\n",
       "      <th>confidence</th>\n",
       "      <th>lift</th>\n",
       "      <th>items</th>\n",
       "    </tr>\n",
       "  </thead>\n",
       "  <tbody>\n",
       "    <tr>\n",
       "      <th>0</th>\n",
       "      <td>[]</td>\n",
       "      <td>[Sport1]</td>\n",
       "      <td>0.217897</td>\n",
       "      <td>1.0</td>\n",
       "      <td>[Sport1]</td>\n",
       "    </tr>\n",
       "    <tr>\n",
       "      <th>1</th>\n",
       "      <td>[]</td>\n",
       "      <td>[Sport12]</td>\n",
       "      <td>0.002381</td>\n",
       "      <td>1.0</td>\n",
       "      <td>[Sport12]</td>\n",
       "    </tr>\n",
       "    <tr>\n",
       "      <th>2</th>\n",
       "      <td>[]</td>\n",
       "      <td>[Sport15]</td>\n",
       "      <td>0.052181</td>\n",
       "      <td>1.0</td>\n",
       "      <td>[Sport15]</td>\n",
       "    </tr>\n",
       "    <tr>\n",
       "      <th>3</th>\n",
       "      <td>[]</td>\n",
       "      <td>[Sport16]</td>\n",
       "      <td>0.001009</td>\n",
       "      <td>1.0</td>\n",
       "      <td>[Sport16]</td>\n",
       "    </tr>\n",
       "    <tr>\n",
       "      <th>4</th>\n",
       "      <td>[]</td>\n",
       "      <td>[Sport17]</td>\n",
       "      <td>0.000704</td>\n",
       "      <td>1.0</td>\n",
       "      <td>[Sport17]</td>\n",
       "    </tr>\n",
       "  </tbody>\n",
       "</table>\n",
       "</div>"
      ],
      "text/plain": [
       "  items_base  items_add  confidence  lift      items\n",
       "0         []   [Sport1]    0.217897   1.0   [Sport1]\n",
       "1         []  [Sport12]    0.002381   1.0  [Sport12]\n",
       "2         []  [Sport15]    0.052181   1.0  [Sport15]\n",
       "3         []  [Sport16]    0.001009   1.0  [Sport16]\n",
       "4         []  [Sport17]    0.000704   1.0  [Sport17]"
      ]
     },
     "execution_count": 14,
     "metadata": {},
     "output_type": "execute_result"
    }
   ],
   "source": [
    "stat_rules.head()"
   ]
  },
  {
   "cell_type": "code",
   "execution_count": 349,
   "metadata": {},
   "outputs": [],
   "source": [
    "stat_rules.to_excel(excel_writer=r'C:\\Users\\bhavrang\\Desktop\\bhavya\\Analytics\\apriori_confidence.xlsx')\n",
    "df_rules.to_excel(excel_writer=r'C:\\Users\\bhavrang\\Desktop\\bhavya\\Analytics\\apriori_support.xlsx')"
   ]
  }
 ],
 "metadata": {
  "kernelspec": {
   "display_name": "Python 3",
   "language": "python",
   "name": "python3"
  },
  "language_info": {
   "codemirror_mode": {
    "name": "ipython",
    "version": 3
   },
   "file_extension": ".py",
   "mimetype": "text/x-python",
   "name": "python",
   "nbconvert_exporter": "python",
   "pygments_lexer": "ipython3",
   "version": "3.7.1"
  }
 },
 "nbformat": 4,
 "nbformat_minor": 2
}
