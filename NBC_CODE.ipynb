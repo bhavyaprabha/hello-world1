{
 "cells": [
  {
   "cell_type": "code",
   "execution_count": 1,
   "metadata": {},
   "outputs": [],
   "source": [
    "import pandas as pd\n",
    "from datetime import datetime\n",
    "import numpy as np"
   ]
  },
  {
   "cell_type": "code",
   "execution_count": 211,
   "metadata": {},
   "outputs": [],
   "source": [
    "NBC_df = pd.read_excel(r'C:\\Users\\bhavrang\\Desktop\\bhavya\\Analytics\\NBC_data_jan_aug.xlsx')"
   ]
  },
  {
   "cell_type": "code",
   "execution_count": 64,
   "metadata": {},
   "outputs": [],
   "source": [
    "CURRENCY_DM_MAP_DF=pd.read_excel(r'C:\\Users\\bhavrang\\Desktop\\bhavya\\Analytics\\DM_ID_MAPPING.xlsx',sheet_name='currency_mapping')\n",
    "DEVICE_DM_MAP_DF=pd.read_excel(r'C:\\Users\\bhavrang\\Desktop\\bhavya\\Analytics\\DM_ID_MAPPING.xlsx',sheet_name='device_mapping')"
   ]
  },
  {
   "cell_type": "code",
   "execution_count": null,
   "metadata": {},
   "outputs": [],
   "source": [
    "#DEVICE_DM_MAP_DF.dtypes\n",
    "DEVICE_DM_MAP_DF['DEVICE_DM_ID']=DEVICE_DM_MAP_DF['DEVICE_DM_ID'].astype(str)"
   ]
  },
  {
   "cell_type": "code",
   "execution_count": 174,
   "metadata": {},
   "outputs": [],
   "source": [
    "#CURRENCY_DM_MAP_DF.dtypes\n",
    "CURRENCY_DM_MAP_DF['CURRENCY_DM_ID']=CURRENCY_DM_MAP_DF['CURRENCY_DM_ID'].astype(str)"
   ]
  },
  {
   "cell_type": "code",
   "execution_count": 215,
   "metadata": {},
   "outputs": [],
   "source": [
    "df=NBC_df\n",
    "# to drop all 'DT_DM_ID' columns\n",
    "li=[]\n",
    "for i in df:\n",
    "    if ('DT_DM_ID' in i):\n",
    "        li.append(i)\n",
    "df.drop(df[li],axis =1,inplace=True)"
   ]
  },
  {
   "cell_type": "code",
   "execution_count": 216,
   "metadata": {},
   "outputs": [],
   "source": [
    "#to split summary description column to 2 new fields as subscription start date and end date. \n",
    "#two more fields are added to dataframe.\n",
    "summary=df['SUMMARY_DESC'].str.split('for',expand=True)\n",
    "timedf=summary[1].str.split('-',expand=True)\n",
    "df['SUB_ST_DT']=timedf[0]\n",
    "df['SUB_END_DT']=timedf[1]\n",
    "df['NEW_SUMMARY_DESC']=summary[0]"
   ]
  },
  {
   "cell_type": "code",
   "execution_count": 217,
   "metadata": {},
   "outputs": [],
   "source": [
    "#to convert invalid promocode values to 'INVALID'\n",
    "df['PROMO_CODE']=df['PROMO_CODE'].apply(lambda x: 'INVALID' if (type(x)!=str) else x)"
   ]
  },
  {
   "cell_type": "code",
   "execution_count": 218,
   "metadata": {},
   "outputs": [],
   "source": [
    "list_str_op=['AUTO_RENEW_STATUS','DATA_SOURCE_STATUS','DEL_IND','PAYMENT_SOURCE_TYPE','CREATED_BY','RENEW_IND','SUSCRIPTION_STATUS','TAX_COUNTRY','WINBACK_IND','TAX_STATE','PROMO_CODE','EXPERIENCE_ID','LAST_UPD_BY','SPORT_SEASON_DM_ID','CAMPAIGN_DM_ID','BILL_ZIP_CD','DEVICE_DM_ID']\n",
    "list_cnv_op=['BATCH_ID','CURRENCY_DM_ID','GOLD_SUBSCRIPTION_ID','SPORT_DM_ID','USER_DM_ID','DEVICE_DM_ID']\n",
    "list_re_zero=['TAX_AMT','TAX_RATE','TAX_REF_AMT','TOTAL_TP_FEES_AMT']\n"
   ]
  },
  {
   "cell_type": "code",
   "execution_count": 91,
   "metadata": {},
   "outputs": [],
   "source": [
    "# function to apply string operations\n",
    "def str_op(list):\n",
    "    for i in list:\n",
    "        df[i]=df[i].apply(lambda x: str(x).strip().upper())\n",
    "        "
   ]
  },
  {
   "cell_type": "code",
   "execution_count": 92,
   "metadata": {},
   "outputs": [],
   "source": [
    "#function to apply conversion operations\n",
    "def cnv_op(list):\n",
    "    for i in list:\n",
    "        df[i]=df[i].astype(str)"
   ]
  },
  {
   "cell_type": "code",
   "execution_count": 255,
   "metadata": {},
   "outputs": [
    {
     "data": {
      "text/plain": [
       "(367844, 45)"
      ]
     },
     "execution_count": 255,
     "metadata": {},
     "output_type": "execute_result"
    }
   ],
   "source": [
    "df.shape"
   ]
  },
  {
   "cell_type": "code",
   "execution_count": 93,
   "metadata": {},
   "outputs": [],
   "source": [
    "# function to replace \"?\" with 0\n",
    "def rep_zero(list):\n",
    "    for i in list:\n",
    "        df[i].replace(to_replace='^ ?',value=0,regex=True,inplace=True) "
   ]
  },
  {
   "cell_type": "code",
   "execution_count": 219,
   "metadata": {},
   "outputs": [],
   "source": [
    "str_op(list_str_op)"
   ]
  },
  {
   "cell_type": "code",
   "execution_count": 222,
   "metadata": {},
   "outputs": [],
   "source": [
    "cnv_op(list_cnv_op)"
   ]
  },
  {
   "cell_type": "code",
   "execution_count": 221,
   "metadata": {},
   "outputs": [],
   "source": [
    "rep_zero(list_re_zero)"
   ]
  },
  {
   "cell_type": "code",
   "execution_count": 223,
   "metadata": {},
   "outputs": [],
   "source": [
    "#to map device_dm_id with respective values and replace others as invalid.New column DEVICE_NM is added to df\n",
    "df=pd.merge(df,DEVICE_DM_MAP_DF,how='left',on='DEVICE_DM_ID')\n",
    "df['DEVICE_NM'].fillna('INVALID',inplace=True)\n",
    "df['DEVICE_NM']=df['DEVICE_NM'].apply(lambda x: str(x).strip().upper())"
   ]
  },
  {
   "cell_type": "code",
   "execution_count": 224,
   "metadata": {},
   "outputs": [],
   "source": [
    "#to map currency_dm_id with respective values and replace others as invalid.new column Currency_NM is added to df\n",
    "df=pd.merge(df,CURRENCY_DM_MAP_DF[['CURRENCY_DM_ID','CURRENCY_NM']],how='left',on='CURRENCY_DM_ID')\n",
    "df['CURRENCY_NM'].fillna('INVALID',inplace=True)\n",
    "df['CURRENCY_NM']=df['CURRENCY_NM'].apply(lambda x: str(x).strip().upper())"
   ]
  },
  {
   "cell_type": "code",
   "execution_count": 225,
   "metadata": {},
   "outputs": [],
   "source": [
    "df['CAMPAIGN_DM_ID'].replace(to_replace='?',value='NULL',inplace=True) \n",
    "df['CAMPAIGN_DM_ID'].replace(to_replace='-1',value='UNMAPPED',inplace=True) "
   ]
  },
  {
   "cell_type": "code",
   "execution_count": 226,
   "metadata": {},
   "outputs": [],
   "source": [
    "df['PROMO_CODE'].replace(to_replace='?',value='NOT APPLICABLE',inplace=True) "
   ]
  },
  {
   "cell_type": "code",
   "execution_count": 227,
   "metadata": {},
   "outputs": [],
   "source": [
    "df['PAYMENT_SOURCE_TYPE'].replace(to_replace='?',value='NOT KNOWN',inplace=True) "
   ]
  },
  {
   "cell_type": "code",
   "execution_count": 228,
   "metadata": {},
   "outputs": [],
   "source": [
    "df['TAX_COUNTRY'].replace(to_replace='?',value='NOT KNOWN',inplace=True) "
   ]
  },
  {
   "cell_type": "code",
   "execution_count": 229,
   "metadata": {},
   "outputs": [],
   "source": [
    "df['TAX_STATE'].replace(to_replace='?',value='NOT KNOWN',inplace=True) "
   ]
  },
  {
   "cell_type": "code",
   "execution_count": 230,
   "metadata": {},
   "outputs": [],
   "source": [
    "df['WINBACK_IND'].replace(to_replace='?',value='NEW USER',inplace=True) "
   ]
  },
  {
   "cell_type": "code",
   "execution_count": 231,
   "metadata": {},
   "outputs": [],
   "source": [
    "df['BILL_ZIP_CD'].replace(to_replace='?',value='NOT KNOWN',inplace=True) "
   ]
  },
  {
   "cell_type": "code",
   "execution_count": 233,
   "metadata": {},
   "outputs": [],
   "source": [
    "del_li=['DEL_IND','EXPERIENCE_ID','LAST_UPD_BY','LAST_UPD_DT_TIME','SUMMARY_DESC']\n",
    "df.drop(df[del_li],axis =1,inplace=True)"
   ]
  },
  {
   "cell_type": "code",
   "execution_count": 252,
   "metadata": {},
   "outputs": [],
   "source": [
    "df.to_excel(excel_writer=r'C:\\Users\\bhavrang\\Desktop\\bhavya\\Analytics\\NBCdata.xlsx')"
   ]
  },
  {
   "cell_type": "code",
   "execution_count": 242,
   "metadata": {},
   "outputs": [],
   "source": [
    "#newdf['DEVICE_NM']=newdf['DEVICE_NM'].astype('category')"
   ]
  },
  {
   "cell_type": "code",
   "execution_count": 483,
   "metadata": {},
   "outputs": [
    {
     "data": {
      "text/plain": [
       "array(['N', 'Y'], dtype=object)"
      ]
     },
     "execution_count": 483,
     "metadata": {},
     "output_type": "execute_result"
    }
   ],
   "source": [
    "df['RENEW_IND'].unique()"
   ]
  },
  {
   "cell_type": "code",
   "execution_count": 505,
   "metadata": {},
   "outputs": [],
   "source": [
    "new_df=df[['USER_DM_ID','CURRENCY_NM','DEVICE_NM','PAYMENT_SOURCE_TYPE','Sport name','DATA_SOURCE_STATUS','WINBACK_IND','AUTO_RENEW_STATUS','RENEW_IND']].copy()"
   ]
  },
  {
   "cell_type": "code",
   "execution_count": 506,
   "metadata": {},
   "outputs": [],
   "source": [
    "new_df=pd.get_dummies(new_df, columns=['CURRENCY_NM','DEVICE_NM','PAYMENT_SOURCE_TYPE','Sport name','DATA_SOURCE_STATUS','WINBACK_IND','AUTO_RENEW_STATUS','RENEW_IND'])"
   ]
  },
  {
   "cell_type": "code",
   "execution_count": 507,
   "metadata": {},
   "outputs": [],
   "source": [
    "#to sum up all the records per user\n",
    "new_df=new_df.groupby('USER_DM_ID').sum()\n",
    "#new_df['USER_DM_ID']=new_df.index"
   ]
  },
  {
   "cell_type": "code",
   "execution_count": 508,
   "metadata": {},
   "outputs": [],
   "source": [
    "#to get the count of the unique subscriptions for a user \n",
    "#do it after filtering unique userids else we will get the value repeated\n",
    "res=df.groupby('USER_DM_ID')['SUBSCRIPTION_ID'].nunique().reset_index(name='UNIQUE_SUB_COUNT')"
   ]
  },
  {
   "cell_type": "code",
   "execution_count": 509,
   "metadata": {},
   "outputs": [
    {
     "data": {
      "text/html": [
       "<div>\n",
       "<style scoped>\n",
       "    .dataframe tbody tr th:only-of-type {\n",
       "        vertical-align: middle;\n",
       "    }\n",
       "\n",
       "    .dataframe tbody tr th {\n",
       "        vertical-align: top;\n",
       "    }\n",
       "\n",
       "    .dataframe thead th {\n",
       "        text-align: right;\n",
       "    }\n",
       "</style>\n",
       "<table border=\"1\" class=\"dataframe\">\n",
       "  <thead>\n",
       "    <tr style=\"text-align: right;\">\n",
       "      <th></th>\n",
       "      <th>USER_DM_ID</th>\n",
       "      <th>UNIQUE_SUB_COUNT</th>\n",
       "    </tr>\n",
       "  </thead>\n",
       "  <tbody>\n",
       "    <tr>\n",
       "      <th>47</th>\n",
       "      <td>100053</td>\n",
       "      <td>2</td>\n",
       "    </tr>\n",
       "  </tbody>\n",
       "</table>\n",
       "</div>"
      ],
      "text/plain": [
       "   USER_DM_ID  UNIQUE_SUB_COUNT\n",
       "47     100053                 2"
      ]
     },
     "execution_count": 509,
     "metadata": {},
     "output_type": "execute_result"
    }
   ],
   "source": [
    "#res[res['USER_DM_ID']=='100053']"
   ]
  },
  {
   "cell_type": "code",
   "execution_count": 510,
   "metadata": {},
   "outputs": [],
   "source": [
    "#after taking subscription count only we need to join the dfs for user_dm_id\n",
    "new_df=pd.merge(new_df,res,how='left',on='USER_DM_ID')\n",
    "#df['DEVICE_NM'].fillna('INVALID',inplace=True)\n",
    "#df['DEVICE_NM']=df['DEVICE_NM'].apply(lambda x: str(x).strip().upper())"
   ]
  },
  {
   "cell_type": "code",
   "execution_count": 519,
   "metadata": {},
   "outputs": [],
   "source": [
    "#to count the total amount charged per user \n",
    "chargedf=df[['USER_DM_ID','CHARGE_COUNT','SUBCRIPTION_PRICE','TOTAL_TP_FEES_AMT','TAX_AMT','TAX_REF_AMT','TOTAL_CHARGED_AMT','TOTAL_REFUNDED_AMT','TOTAL_TP_FEES_REFUNDED_AMT']].copy()\n",
    "chargedf=chargedf.groupby('USER_DM_ID').sum()\n",
    "new_df=pd.merge(new_df,chargedf,how='left',on='USER_DM_ID')"
   ]
  },
  {
   "cell_type": "code",
   "execution_count": 520,
   "metadata": {},
   "outputs": [
    {
     "data": {
      "text/html": [
       "<div>\n",
       "<style scoped>\n",
       "    .dataframe tbody tr th:only-of-type {\n",
       "        vertical-align: middle;\n",
       "    }\n",
       "\n",
       "    .dataframe tbody tr th {\n",
       "        vertical-align: top;\n",
       "    }\n",
       "\n",
       "    .dataframe thead th {\n",
       "        text-align: right;\n",
       "    }\n",
       "</style>\n",
       "<table border=\"1\" class=\"dataframe\">\n",
       "  <thead>\n",
       "    <tr style=\"text-align: right;\">\n",
       "      <th></th>\n",
       "      <th>USER_DM_ID</th>\n",
       "      <th>CURRENCY_NM_EUR</th>\n",
       "      <th>CURRENCY_NM_GBP</th>\n",
       "      <th>CURRENCY_NM_USD</th>\n",
       "      <th>DEVICE_NM_DESKTOP</th>\n",
       "      <th>DEVICE_NM_GAME_CONSOLE</th>\n",
       "      <th>DEVICE_NM_INVALID</th>\n",
       "      <th>DEVICE_NM_MOBILE</th>\n",
       "      <th>DEVICE_NM_OTHER</th>\n",
       "      <th>DEVICE_NM_TABLET</th>\n",
       "      <th>...</th>\n",
       "      <th>TOTAL_REFUNDED_AMT_x</th>\n",
       "      <th>TOTAL_TP_FEES_REFUNDED_AMT_x</th>\n",
       "      <th>CHARGE_COUNT_y</th>\n",
       "      <th>SUBCRIPTION_PRICE_y</th>\n",
       "      <th>TOTAL_TP_FEES_AMT_y</th>\n",
       "      <th>TAX_AMT_y</th>\n",
       "      <th>TAX_REF_AMT_y</th>\n",
       "      <th>TOTAL_CHARGED_AMT_y</th>\n",
       "      <th>TOTAL_REFUNDED_AMT_y</th>\n",
       "      <th>TOTAL_TP_FEES_REFUNDED_AMT_y</th>\n",
       "    </tr>\n",
       "  </thead>\n",
       "  <tbody>\n",
       "    <tr>\n",
       "      <th>51</th>\n",
       "      <td>100053</td>\n",
       "      <td>3</td>\n",
       "      <td>0</td>\n",
       "      <td>0</td>\n",
       "      <td>0</td>\n",
       "      <td>0</td>\n",
       "      <td>3</td>\n",
       "      <td>0</td>\n",
       "      <td>0</td>\n",
       "      <td>0</td>\n",
       "      <td>...</td>\n",
       "      <td>0.00</td>\n",
       "      <td>0.0</td>\n",
       "      <td>5</td>\n",
       "      <td>164.97</td>\n",
       "      <td>207.0</td>\n",
       "      <td>138.63</td>\n",
       "      <td>0</td>\n",
       "      <td>164.97</td>\n",
       "      <td>54.99</td>\n",
       "      <td>0.0</td>\n",
       "    </tr>\n",
       "    <tr>\n",
       "      <th>52</th>\n",
       "      <td>100053</td>\n",
       "      <td>3</td>\n",
       "      <td>0</td>\n",
       "      <td>0</td>\n",
       "      <td>0</td>\n",
       "      <td>0</td>\n",
       "      <td>3</td>\n",
       "      <td>0</td>\n",
       "      <td>0</td>\n",
       "      <td>0</td>\n",
       "      <td>...</td>\n",
       "      <td>54.99</td>\n",
       "      <td>0.0</td>\n",
       "      <td>5</td>\n",
       "      <td>164.97</td>\n",
       "      <td>207.0</td>\n",
       "      <td>138.63</td>\n",
       "      <td>0</td>\n",
       "      <td>164.97</td>\n",
       "      <td>54.99</td>\n",
       "      <td>0.0</td>\n",
       "    </tr>\n",
       "    <tr>\n",
       "      <th>53</th>\n",
       "      <td>100053</td>\n",
       "      <td>3</td>\n",
       "      <td>0</td>\n",
       "      <td>0</td>\n",
       "      <td>0</td>\n",
       "      <td>0</td>\n",
       "      <td>3</td>\n",
       "      <td>0</td>\n",
       "      <td>0</td>\n",
       "      <td>0</td>\n",
       "      <td>...</td>\n",
       "      <td>0.00</td>\n",
       "      <td>0.0</td>\n",
       "      <td>5</td>\n",
       "      <td>164.97</td>\n",
       "      <td>207.0</td>\n",
       "      <td>138.63</td>\n",
       "      <td>0</td>\n",
       "      <td>164.97</td>\n",
       "      <td>54.99</td>\n",
       "      <td>0.0</td>\n",
       "    </tr>\n",
       "  </tbody>\n",
       "</table>\n",
       "<p>3 rows × 68 columns</p>\n",
       "</div>"
      ],
      "text/plain": [
       "   USER_DM_ID  CURRENCY_NM_EUR  CURRENCY_NM_GBP  CURRENCY_NM_USD  \\\n",
       "51     100053                3                0                0   \n",
       "52     100053                3                0                0   \n",
       "53     100053                3                0                0   \n",
       "\n",
       "    DEVICE_NM_DESKTOP  DEVICE_NM_GAME_CONSOLE  DEVICE_NM_INVALID  \\\n",
       "51                  0                       0                  3   \n",
       "52                  0                       0                  3   \n",
       "53                  0                       0                  3   \n",
       "\n",
       "    DEVICE_NM_MOBILE  DEVICE_NM_OTHER  DEVICE_NM_TABLET  \\\n",
       "51                 0                0                 0   \n",
       "52                 0                0                 0   \n",
       "53                 0                0                 0   \n",
       "\n",
       "                ...               TOTAL_REFUNDED_AMT_x  \\\n",
       "51              ...                               0.00   \n",
       "52              ...                              54.99   \n",
       "53              ...                               0.00   \n",
       "\n",
       "    TOTAL_TP_FEES_REFUNDED_AMT_x  CHARGE_COUNT_y  SUBCRIPTION_PRICE_y  \\\n",
       "51                           0.0               5               164.97   \n",
       "52                           0.0               5               164.97   \n",
       "53                           0.0               5               164.97   \n",
       "\n",
       "    TOTAL_TP_FEES_AMT_y  TAX_AMT_y  TAX_REF_AMT_y  TOTAL_CHARGED_AMT_y  \\\n",
       "51                207.0     138.63              0               164.97   \n",
       "52                207.0     138.63              0               164.97   \n",
       "53                207.0     138.63              0               164.97   \n",
       "\n",
       "    TOTAL_REFUNDED_AMT_y  TOTAL_TP_FEES_REFUNDED_AMT_y  \n",
       "51                 54.99                           0.0  \n",
       "52                 54.99                           0.0  \n",
       "53                 54.99                           0.0  \n",
       "\n",
       "[3 rows x 68 columns]"
      ]
     },
     "execution_count": 520,
     "metadata": {},
     "output_type": "execute_result"
    }
   ],
   "source": [
    "new_df[new_df['USER_DM_ID']=='100053']"
   ]
  },
  {
   "cell_type": "code",
   "execution_count": 454,
   "metadata": {},
   "outputs": [],
   "source": [
    "#to get the status of a user by verifiying his all subscriptions\n",
    "DSS=df.groupby(['USER_DM_ID','DATA_SOURCE_STATUS'])['DATA_SOURCE_STATUS'].count().reset_index(name='COUNT')"
   ]
  },
  {
   "cell_type": "code",
   "execution_count": 455,
   "metadata": {},
   "outputs": [],
   "source": [
    "DSS['USER_STATUS'] = np.where(DSS['DATA_SOURCE_STATUS']=='ACTIVE', 0, 1)"
   ]
  },
  {
   "cell_type": "code",
   "execution_count": 456,
   "metadata": {},
   "outputs": [],
   "source": [
    "res1=DSS.groupby('USER_DM_ID').sum()"
   ]
  },
  {
   "cell_type": "code",
   "execution_count": 457,
   "metadata": {},
   "outputs": [],
   "source": [
    "new_df=pd.merge(new_df,res1,how='left',on='USER_DM_ID')\n",
    "new_df.drop(['COUNT'],axis=1,inplace=True)\n",
    "new_df['USER_STATUS'].replace(to_replace=0,value='ACTIVE',inplace=True)\n",
    "new_df['USER_STATUS'].replace(to_replace=1,value='CANCELLED',inplace=True)"
   ]
  },
  {
   "cell_type": "code",
   "execution_count": 598,
   "metadata": {},
   "outputs": [],
   "source": [
    "new_df[new_df['USER_STATUS']=='CANCELLED'].head()"
   ]
  },
  {
   "cell_type": "code",
   "execution_count": 461,
   "metadata": {},
   "outputs": [
    {
     "data": {
      "text/plain": [
       "7046"
      ]
     },
     "execution_count": 461,
     "metadata": {},
     "output_type": "execute_result"
    }
   ],
   "source": [
    "#total no of records with atleast 1 subscritpion as cancelled.\n",
    "new_df[new_df['USER_STATUS']=='CANCELLED']['USER_DM_ID'].count()"
   ]
  },
  {
   "cell_type": "code",
   "execution_count": 475,
   "metadata": {},
   "outputs": [
    {
     "data": {
      "text/plain": [
       "array(['USD', 'EUR', 'GBP'], dtype=object)"
      ]
     },
     "execution_count": 475,
     "metadata": {},
     "output_type": "execute_result"
    }
   ],
   "source": [
    "df['CURRENCY_NM'].unique()"
   ]
  },
  {
   "cell_type": "code",
   "execution_count": null,
   "metadata": {},
   "outputs": [],
   "source": [
    "res1=dss.groupby('USER_DM_ID').agg({'USER_DM_ID':'unique'})\n",
    "res2=dss.groupby('USER_DM_ID').agg({'STATUS':'unique'})"
   ]
  },
  {
   "cell_type": "code",
   "execution_count": null,
   "metadata": {},
   "outputs": [],
   "source": [
    "res_df['USER_DM_ID']=res1['USER_DM_ID']\n",
    "res_df['STATUS']=res2['STATUS']"
   ]
  },
  {
   "cell_type": "code",
   "execution_count": 323,
   "metadata": {},
   "outputs": [],
   "source": [
    "chargedf=df[['USER_DM_ID','SUBSCRIPTION_ID','SUBCRIPTION_PRICE','DATA_SOURCE_STATUS']]"
   ]
  },
  {
   "cell_type": "code",
   "execution_count": 326,
   "metadata": {},
   "outputs": [
    {
     "data": {
      "text/html": [
       "<div>\n",
       "<style scoped>\n",
       "    .dataframe tbody tr th:only-of-type {\n",
       "        vertical-align: middle;\n",
       "    }\n",
       "\n",
       "    .dataframe tbody tr th {\n",
       "        vertical-align: top;\n",
       "    }\n",
       "\n",
       "    .dataframe thead th {\n",
       "        text-align: right;\n",
       "    }\n",
       "</style>\n",
       "<table border=\"1\" class=\"dataframe\">\n",
       "  <thead>\n",
       "    <tr style=\"text-align: right;\">\n",
       "      <th></th>\n",
       "      <th>GOLD_SUBSCRIPTION_ID</th>\n",
       "      <th>SUBSCRIPTION_ID</th>\n",
       "      <th>USER_DM_ID</th>\n",
       "      <th>SPORT_DM_ID</th>\n",
       "      <th>Sport name</th>\n",
       "      <th>SPORT_TERM_DM_ID</th>\n",
       "      <th>SUBSCRIPTION_START_DT</th>\n",
       "      <th>DATA_SOURCE_STATUS</th>\n",
       "      <th>SUSCRIPTION_STATUS</th>\n",
       "      <th>CURRENCY_DM_ID</th>\n",
       "      <th>...</th>\n",
       "      <th>TERM_CONV_DT</th>\n",
       "      <th>SPORT_SEASON_DM_ID</th>\n",
       "      <th>TAX_REF_AMT</th>\n",
       "      <th>WINBACK_IND</th>\n",
       "      <th>PAYMENT_SOURCE_TYPE</th>\n",
       "      <th>SUB_ST_DT</th>\n",
       "      <th>SUB_END_DT</th>\n",
       "      <th>NEW_SUMMARY_DESC</th>\n",
       "      <th>DEVICE_NM</th>\n",
       "      <th>CURRENCY_NM</th>\n",
       "    </tr>\n",
       "  </thead>\n",
       "  <tbody>\n",
       "    <tr>\n",
       "      <th>31166</th>\n",
       "      <td>370678</td>\n",
       "      <td>RC4YADSLE79J</td>\n",
       "      <td>39</td>\n",
       "      <td>4</td>\n",
       "      <td>Sport4</td>\n",
       "      <td>24</td>\n",
       "      <td>2018-05-12</td>\n",
       "      <td>ACTIVE</td>\n",
       "      <td>EXISTING</td>\n",
       "      <td>-1</td>\n",
       "      <td>...</td>\n",
       "      <td>?</td>\n",
       "      <td>12</td>\n",
       "      <td>0</td>\n",
       "      <td>A</td>\n",
       "      <td>VISA CARD</td>\n",
       "      <td>May 18, 2018</td>\n",
       "      <td>May 18,2019</td>\n",
       "      <td>$54.99</td>\n",
       "      <td>INVALID</td>\n",
       "      <td>USD</td>\n",
       "    </tr>\n",
       "    <tr>\n",
       "      <th>306543</th>\n",
       "      <td>797468</td>\n",
       "      <td>RCQ9026WCK86</td>\n",
       "      <td>39</td>\n",
       "      <td>29</td>\n",
       "      <td>Sport29</td>\n",
       "      <td>89</td>\n",
       "      <td>2018-12-29</td>\n",
       "      <td>ACTIVE</td>\n",
       "      <td>NEW USER</td>\n",
       "      <td>-1</td>\n",
       "      <td>...</td>\n",
       "      <td>43463.7</td>\n",
       "      <td>27</td>\n",
       "      <td>0</td>\n",
       "      <td>NEW USER</td>\n",
       "      <td>VISA CARD</td>\n",
       "      <td>Dec 29, 2018</td>\n",
       "      <td>Dec 29, 2019</td>\n",
       "      <td>$89.99</td>\n",
       "      <td>MOBILE</td>\n",
       "      <td>USD</td>\n",
       "    </tr>\n",
       "  </tbody>\n",
       "</table>\n",
       "<p>2 rows × 45 columns</p>\n",
       "</div>"
      ],
      "text/plain": [
       "       GOLD_SUBSCRIPTION_ID   SUBSCRIPTION_ID USER_DM_ID SPORT_DM_ID  \\\n",
       "31166                370678   RC4YADSLE79J            39           4   \n",
       "306543               797468      RCQ9026WCK86         39          29   \n",
       "\n",
       "       Sport name  SPORT_TERM_DM_ID SUBSCRIPTION_START_DT DATA_SOURCE_STATUS  \\\n",
       "31166      Sport4                24            2018-05-12             ACTIVE   \n",
       "306543    Sport29                89            2018-12-29             ACTIVE   \n",
       "\n",
       "       SUSCRIPTION_STATUS CURRENCY_DM_ID     ...              TERM_CONV_DT  \\\n",
       "31166            EXISTING             -1     ...                         ?   \n",
       "306543           NEW USER             -1     ...                   43463.7   \n",
       "\n",
       "        SPORT_SEASON_DM_ID  TAX_REF_AMT  WINBACK_IND  PAYMENT_SOURCE_TYPE  \\\n",
       "31166                   12            0            A            VISA CARD   \n",
       "306543                  27            0     NEW USER            VISA CARD   \n",
       "\n",
       "             SUB_ST_DT     SUB_END_DT NEW_SUMMARY_DESC DEVICE_NM CURRENCY_NM  \n",
       "31166    May 18, 2018     May 18,2019          $54.99    INVALID         USD  \n",
       "306543   Dec 29, 2018    Dec 29, 2019          $89.99     MOBILE         USD  \n",
       "\n",
       "[2 rows x 45 columns]"
      ]
     },
     "execution_count": 326,
     "metadata": {},
     "output_type": "execute_result"
    }
   ],
   "source": [
    "df[df['USER_DM_ID']=='39']"
   ]
  },
  {
   "cell_type": "code",
   "execution_count": 324,
   "metadata": {},
   "outputs": [
    {
     "data": {
      "text/html": [
       "<div>\n",
       "<style scoped>\n",
       "    .dataframe tbody tr th:only-of-type {\n",
       "        vertical-align: middle;\n",
       "    }\n",
       "\n",
       "    .dataframe tbody tr th {\n",
       "        vertical-align: top;\n",
       "    }\n",
       "\n",
       "    .dataframe thead th {\n",
       "        text-align: right;\n",
       "    }\n",
       "</style>\n",
       "<table border=\"1\" class=\"dataframe\">\n",
       "  <thead>\n",
       "    <tr style=\"text-align: right;\">\n",
       "      <th></th>\n",
       "      <th>USER_DM_ID</th>\n",
       "      <th>SUBSCRIPTION_ID</th>\n",
       "      <th>SUBCRIPTION_PRICE</th>\n",
       "      <th>DATA_SOURCE_STATUS</th>\n",
       "    </tr>\n",
       "  </thead>\n",
       "  <tbody>\n",
       "    <tr>\n",
       "      <th>31166</th>\n",
       "      <td>39</td>\n",
       "      <td>RC4YADSLE79J</td>\n",
       "      <td>54.99</td>\n",
       "      <td>ACTIVE</td>\n",
       "    </tr>\n",
       "    <tr>\n",
       "      <th>306543</th>\n",
       "      <td>39</td>\n",
       "      <td>RCQ9026WCK86</td>\n",
       "      <td>89.99</td>\n",
       "      <td>ACTIVE</td>\n",
       "    </tr>\n",
       "  </tbody>\n",
       "</table>\n",
       "</div>"
      ],
      "text/plain": [
       "       USER_DM_ID   SUBSCRIPTION_ID  SUBCRIPTION_PRICE DATA_SOURCE_STATUS\n",
       "31166          39   RC4YADSLE79J                 54.99             ACTIVE\n",
       "306543         39      RCQ9026WCK86              89.99             ACTIVE"
      ]
     },
     "execution_count": 324,
     "metadata": {},
     "output_type": "execute_result"
    }
   ],
   "source": [
    "chargedf[chargedf['USER_DM_ID']=='39']\n"
   ]
  },
  {
   "cell_type": "code",
   "execution_count": 523,
   "metadata": {},
   "outputs": [
    {
     "data": {
      "text/plain": [
       "GOLD_SUBSCRIPTION_ID                   object\n",
       "SUBSCRIPTION_ID                        object\n",
       "USER_DM_ID                             object\n",
       "SPORT_DM_ID                            object\n",
       "Sport name                             object\n",
       "SPORT_TERM_DM_ID                        int64\n",
       "SUBSCRIPTION_START_DT          datetime64[ns]\n",
       "DATA_SOURCE_STATUS                     object\n",
       "SUSCRIPTION_STATUS                     object\n",
       "CURRENCY_DM_ID                         object\n",
       "SUBCRIPTION_PRICE                     float64\n",
       "TOTAL_CHARGED_AMT                     float64\n",
       "TOTAL_TP_FEES_AMT                     float64\n",
       "CHARGE_COUNT                            int64\n",
       "TOTAL_REFUNDED_AMT                    float64\n",
       "TOTAL_TP_FEES_REFUNDED_AMT            float64\n",
       "LAST_BILLING_DT                datetime64[ns]\n",
       "NEXT_BILLING_DT                datetime64[ns]\n",
       "CANCELLATION_DT                datetime64[ns]\n",
       "USER_ACCESS_EXP_DT             datetime64[ns]\n",
       "SUBSCRIPTION_TRIAL_END_DT             float64\n",
       "SUBSCRIPTION_GRCPD_START_DT    datetime64[ns]\n",
       "RENEW_IND                              object\n",
       "AUTO_RENEW_STATUS                      object\n",
       "CAMPAIGN_DM_ID                         object\n",
       "DEVICE_DM_ID                           object\n",
       "PROMO_CODE                             object\n",
       "TAX_AMT                               float64\n",
       "TAX_RATE                              float64\n",
       "TAX_COUNTRY                            object\n",
       "TAX_STATE                              object\n",
       "CREATED_BY                             object\n",
       "CREATE_DT_TIME                 datetime64[ns]\n",
       "BATCH_ID                               object\n",
       "BILL_ZIP_CD                            object\n",
       "TERM_CONV_DT                           object\n",
       "SPORT_SEASON_DM_ID                     object\n",
       "TAX_REF_AMT                             int64\n",
       "WINBACK_IND                            object\n",
       "PAYMENT_SOURCE_TYPE                    object\n",
       "SUB_ST_DT                              object\n",
       "SUB_END_DT                             object\n",
       "NEW_SUMMARY_DESC                       object\n",
       "DEVICE_NM                              object\n",
       "CURRENCY_NM                            object\n",
       "dtype: object"
      ]
     },
     "execution_count": 523,
     "metadata": {},
     "output_type": "execute_result"
    }
   ],
   "source": [
    "df.dtypes"
   ]
  },
  {
   "cell_type": "code",
   "execution_count": 535,
   "metadata": {},
   "outputs": [],
   "source": [
    "date=df.groupby('USER_DM_ID')['SUBSCRIPTION_START_DT']"
   ]
  },
  {
   "cell_type": "code",
   "execution_count": 538,
   "metadata": {},
   "outputs": [],
   "source": [
    "# Group the data frame by month and item and extract a number of stats from each group\n",
    "result =df.groupby(['USER_DM_ID']).agg({'SUBSCRIPTION_START_DT':['max']})   # get the first date per group"
   ]
  },
  {
   "cell_type": "code",
   "execution_count": 541,
   "metadata": {},
   "outputs": [
    {
     "data": {
      "text/plain": [
       "SUBSCRIPTION_START_DT  max    datetime64[ns]\n",
       "dtype: object"
      ]
     },
     "execution_count": 541,
     "metadata": {},
     "output_type": "execute_result"
    }
   ],
   "source": [
    "result.dtypes"
   ]
  },
  {
   "cell_type": "code",
   "execution_count": 548,
   "metadata": {},
   "outputs": [],
   "source": [
    "datetime_object = datetime.strptime('2018-12-31', '%Y-%m-%d')"
   ]
  },
  {
   "cell_type": "code",
   "execution_count": 560,
   "metadata": {},
   "outputs": [
    {
     "data": {
      "text/html": [
       "<div>\n",
       "<style scoped>\n",
       "    .dataframe tbody tr th:only-of-type {\n",
       "        vertical-align: middle;\n",
       "    }\n",
       "\n",
       "    .dataframe tbody tr th {\n",
       "        vertical-align: top;\n",
       "    }\n",
       "\n",
       "    .dataframe thead tr th {\n",
       "        text-align: left;\n",
       "    }\n",
       "\n",
       "    .dataframe thead tr:last-of-type th {\n",
       "        text-align: right;\n",
       "    }\n",
       "</style>\n",
       "<table border=\"1\" class=\"dataframe\">\n",
       "  <thead>\n",
       "    <tr>\n",
       "      <th></th>\n",
       "      <th>SUBSCRIPTION_START_DT</th>\n",
       "      <th>RECENCY</th>\n",
       "    </tr>\n",
       "    <tr>\n",
       "      <th></th>\n",
       "      <th>max</th>\n",
       "      <th></th>\n",
       "    </tr>\n",
       "    <tr>\n",
       "      <th>USER_DM_ID</th>\n",
       "      <th></th>\n",
       "      <th></th>\n",
       "    </tr>\n",
       "  </thead>\n",
       "  <tbody>\n",
       "    <tr>\n",
       "      <th>1</th>\n",
       "      <td>2018-08-02</td>\n",
       "      <td>151 days</td>\n",
       "    </tr>\n",
       "    <tr>\n",
       "      <th>100</th>\n",
       "      <td>2018-05-13</td>\n",
       "      <td>151 days</td>\n",
       "    </tr>\n",
       "    <tr>\n",
       "      <th>10000</th>\n",
       "      <td>2018-05-18</td>\n",
       "      <td>151 days</td>\n",
       "    </tr>\n",
       "    <tr>\n",
       "      <th>100001</th>\n",
       "      <td>2018-08-02</td>\n",
       "      <td>151 days</td>\n",
       "    </tr>\n",
       "    <tr>\n",
       "      <th>100002</th>\n",
       "      <td>2018-06-25</td>\n",
       "      <td>151 days</td>\n",
       "    </tr>\n",
       "  </tbody>\n",
       "</table>\n",
       "</div>"
      ],
      "text/plain": [
       "           SUBSCRIPTION_START_DT  RECENCY\n",
       "                             max         \n",
       "USER_DM_ID                               \n",
       "1                     2018-08-02 151 days\n",
       "100                   2018-05-13 151 days\n",
       "10000                 2018-05-18 151 days\n",
       "100001                2018-08-02 151 days\n",
       "100002                2018-06-25 151 days"
      ]
     },
     "execution_count": 560,
     "metadata": {},
     "output_type": "execute_result"
    }
   ],
   "source": [
    "result.head()"
   ]
  },
  {
   "cell_type": "code",
   "execution_count": 568,
   "metadata": {},
   "outputs": [],
   "source": [
    "nn['ST_DT']=df['SUBSCRIPTION_START_DT'].apply(lambda x:np.datetime64(x))"
   ]
  },
  {
   "cell_type": "code",
   "execution_count": 567,
   "metadata": {},
   "outputs": [],
   "source": [
    "nn=pd.DataFrame()"
   ]
  },
  {
   "cell_type": "code",
   "execution_count": 566,
   "metadata": {},
   "outputs": [
    {
     "data": {
      "text/plain": [
       "0        2018-01-01\n",
       "1        2018-01-18\n",
       "2        2018-01-31\n",
       "3        2018-01-09\n",
       "4        2018-01-26\n",
       "5        2018-01-01\n",
       "6        2018-01-09\n",
       "7        2018-01-06\n",
       "8        2018-01-30\n",
       "9        2018-01-09\n",
       "10       2018-01-07\n",
       "11       2018-01-02\n",
       "12       2018-01-24\n",
       "13       2018-01-09\n",
       "14       2018-01-14\n",
       "15       2018-01-29\n",
       "16       2018-01-31\n",
       "17       2018-01-02\n",
       "18       2018-01-02\n",
       "19       2018-01-09\n",
       "20       2018-01-14\n",
       "21       2018-01-13\n",
       "22       2018-01-09\n",
       "23       2018-01-02\n",
       "24       2018-01-09\n",
       "25       2018-01-15\n",
       "26       2018-01-02\n",
       "27       2018-01-09\n",
       "28       2018-01-02\n",
       "29       2018-01-17\n",
       "            ...    \n",
       "367814   2018-12-14\n",
       "367815   2018-05-11\n",
       "367816   2018-02-18\n",
       "367817   2018-12-26\n",
       "367818   2018-06-04\n",
       "367819   2018-09-11\n",
       "367820   2018-02-23\n",
       "367821   2018-12-29\n",
       "367822   2018-06-02\n",
       "367823   2018-12-26\n",
       "367824   2018-12-05\n",
       "367825   2018-12-16\n",
       "367826   2018-05-18\n",
       "367827   2018-12-29\n",
       "367828   2018-05-13\n",
       "367829   2018-12-05\n",
       "367830   2018-01-27\n",
       "367831   2018-03-17\n",
       "367832   2018-09-29\n",
       "367833   2018-03-15\n",
       "367834   2018-05-05\n",
       "367835   2018-03-09\n",
       "367836   2018-09-10\n",
       "367837   2018-02-23\n",
       "367838   2018-09-15\n",
       "367839   2018-03-15\n",
       "367840   2018-12-21\n",
       "367841   2018-09-07\n",
       "367842   2018-08-02\n",
       "367843   2018-08-02\n",
       "Name: SUBSCRIPTION_START_DT, Length: 367844, dtype: datetime64[ns]"
      ]
     },
     "execution_count": 566,
     "metadata": {},
     "output_type": "execute_result"
    }
   ],
   "source": [
    "nn['st_dt']"
   ]
  },
  {
   "cell_type": "code",
   "execution_count": 569,
   "metadata": {},
   "outputs": [],
   "source": [
    "nn['RECENCY']= np.datetime64('2018-12-31')-nn['ST_DT']"
   ]
  },
  {
   "cell_type": "code",
   "execution_count": 593,
   "metadata": {},
   "outputs": [],
   "source": [
    "re=result['SUBSCRIPTION_START_DT']"
   ]
  },
  {
   "cell_type": "code",
   "execution_count": 596,
   "metadata": {},
   "outputs": [
    {
     "data": {
      "text/plain": [
       "max    datetime64[ns]\n",
       "dtype: object"
      ]
     },
     "execution_count": 596,
     "metadata": {},
     "output_type": "execute_result"
    }
   ],
   "source": [
    "re.dtypes"
   ]
  },
  {
   "cell_type": "code",
   "execution_count": 575,
   "metadata": {},
   "outputs": [],
   "source": [
    "nn['days']=nn['RECENCY'].apply(lambda x: x.days)"
   ]
  },
  {
   "cell_type": "code",
   "execution_count": 589,
   "metadata": {},
   "outputs": [],
   "source": [
    "def score(x):\n",
    "    if(0<=x<=92):\n",
    "        return 4\n",
    "    elif(92<x<=184):\n",
    "        return 3\n",
    "    elif(184<x<=275):\n",
    "        return 2\n",
    "    elif(x>275):\n",
    "        return 1"
   ]
  },
  {
   "cell_type": "code",
   "execution_count": 590,
   "metadata": {},
   "outputs": [],
   "source": [
    "nn['SCORE']=nn['days'].apply(lambda x:score(x))"
   ]
  },
  {
   "cell_type": "code",
   "execution_count": 592,
   "metadata": {},
   "outputs": [
    {
     "data": {
      "text/plain": [
       "array([1, 2, 3, 4], dtype=int64)"
      ]
     },
     "execution_count": 592,
     "metadata": {},
     "output_type": "execute_result"
    }
   ],
   "source": [
    "nn['SCORE'].unique()"
   ]
  }
 ],
 "metadata": {
  "kernelspec": {
   "display_name": "Python 3",
   "language": "python",
   "name": "python3"
  },
  "language_info": {
   "codemirror_mode": {
    "name": "ipython",
    "version": 3
   },
   "file_extension": ".py",
   "mimetype": "text/x-python",
   "name": "python",
   "nbconvert_exporter": "python",
   "pygments_lexer": "ipython3",
   "version": "3.7.1"
  }
 },
 "nbformat": 4,
 "nbformat_minor": 2
}
