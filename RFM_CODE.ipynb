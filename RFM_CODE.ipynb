{
 "cells": [
  {
   "cell_type": "code",
   "execution_count": 1,
   "metadata": {},
   "outputs": [],
   "source": [
    "import pandas as pd\n",
    "from datetime import datetime\n",
    "import numpy as np"
   ]
  },
  {
   "cell_type": "code",
   "execution_count": 2,
   "metadata": {},
   "outputs": [],
   "source": [
    "NBC_df = pd.read_excel(r'C:\\Users\\bhavrang\\Desktop\\bhavya\\Analytics\\NBCdata.xlsx')"
   ]
  },
  {
   "cell_type": "code",
   "execution_count": 138,
   "metadata": {},
   "outputs": [],
   "source": [
    "#to get the count of gold_subscription_ids per user.\n",
    "freqdf=NBC_df.groupby('USER_DM_ID')['GOLD_SUBSCRIPTION_ID'].count().reset_index(name='GOLD_ID_COUNT')"
   ]
  },
  {
   "cell_type": "code",
   "execution_count": 139,
   "metadata": {},
   "outputs": [
    {
     "data": {
      "text/plain": [
       "0.25    1.0\n",
       "0.50    1.0\n",
       "0.75    1.0\n",
       "Name: GOLD_ID_COUNT, dtype: float64"
      ]
     },
     "execution_count": 139,
     "metadata": {},
     "output_type": "execute_result"
    }
   ],
   "source": [
    "freqdf.GOLD_ID_COUNT.quantile([0.25,0.5,0.75])"
   ]
  },
  {
   "cell_type": "code",
   "execution_count": 140,
   "metadata": {},
   "outputs": [],
   "source": [
    "#to apply score for a user based on counts of gold_subscription_ids\n",
    "freqdf['FREQ_SCORE']=freqdf['GOLD_ID_COUNT'].apply(lambda x: 2 if x>1 else 1)"
   ]
  },
  {
   "cell_type": "code",
   "execution_count": 15,
   "metadata": {},
   "outputs": [],
   "source": [
    "#Monetary\n",
    "#summing up all the active subscription price at user level.\n",
    "price=NBC_df[NBC_df['DATA_SOURCE_STATUS']=='ACTIVE'].groupby('USER_DM_ID')['SUBCRIPTION_PRICE'].sum().reset_index(name='TOTAL_PRICE')"
   ]
  },
  {
   "cell_type": "code",
   "execution_count": 16,
   "metadata": {},
   "outputs": [],
   "source": [
    "#summing up all refund amount at user level.\n",
    "ref_price=NBC_df[NBC_df['DATA_SOURCE_STATUS']!='ACTIVE'].groupby('USER_DM_ID')['TOTAL_REFUNDED_AMT'].sum().reset_index(name='TOTAL_REFUND')"
   ]
  },
  {
   "cell_type": "code",
   "execution_count": 17,
   "metadata": {},
   "outputs": [],
   "source": [
    "price=pd.merge(price,ref_price,how='left',on='USER_DM_ID')\n",
    "price=price.fillna(0)\n",
    "price['REVENUE']=price['TOTAL_PRICE']-price['TOTAL_REFUND']"
   ]
  },
  {
   "cell_type": "code",
   "execution_count": 131,
   "metadata": {},
   "outputs": [],
   "source": [
    "#scoring user based on REVENUE generated \n",
    "def monetory_score(x):\n",
    "    if(x>100):\n",
    "        return 5\n",
    "    elif(50<=x<100):\n",
    "        return 4\n",
    "    elif(20<=x<50):\n",
    "        return 3\n",
    "    elif(10<=x<20):\n",
    "        return 2\n",
    "    elif(1<=x<10):\n",
    "        return 1\n",
    "    else :\n",
    "        return 0"
   ]
  },
  {
   "cell_type": "code",
   "execution_count": 132,
   "metadata": {},
   "outputs": [],
   "source": [
    "price['MONETARY_SCORE']=price['REVENUE'].apply(lambda x:monetory_score(x))"
   ]
  },
  {
   "cell_type": "code",
   "execution_count": 103,
   "metadata": {},
   "outputs": [],
   "source": [
    "#scoring based on recency\n",
    "recency_df=NBC_df[['USER_DM_ID','SUBSCRIPTION_START_DT']].copy()"
   ]
  },
  {
   "cell_type": "code",
   "execution_count": 104,
   "metadata": {},
   "outputs": [],
   "source": [
    "recency_df['SUBSCRIPTION_START_DT']=recency_df['SUBSCRIPTION_START_DT'].apply(lambda x:np.datetime64(x))\n",
    "recency_df['DATE_DIFF']= np.datetime64('2018-12-31')-recency_df['SUBSCRIPTION_START_DT']\n",
    "recency_df['RECENCY']=recency_df['DATE_DIFF'].apply(lambda x: x.days)"
   ]
  },
  {
   "cell_type": "code",
   "execution_count": 105,
   "metadata": {},
   "outputs": [],
   "source": [
    "recency_df=recency_df.groupby('USER_DM_ID').agg({'RECENCY':'min'})"
   ]
  },
  {
   "cell_type": "code",
   "execution_count": 107,
   "metadata": {},
   "outputs": [
    {
     "data": {
      "text/plain": [
       "RECENCY    226\n",
       "Name: 100053, dtype: int64"
      ]
     },
     "execution_count": 107,
     "metadata": {},
     "output_type": "execute_result"
    }
   ],
   "source": [
    "recency_df.loc[100053]"
   ]
  },
  {
   "cell_type": "code",
   "execution_count": 114,
   "metadata": {},
   "outputs": [],
   "source": [
    "rec=NBC_df.groupby('USER_DM_ID')['GOLD_SUBSCRIPTION_ID'].count().reset_index(name='count')"
   ]
  },
  {
   "cell_type": "code",
   "execution_count": 115,
   "metadata": {},
   "outputs": [],
   "source": [
    "rec=pd.merge(rec,recency_df,on='USER_DM_ID',how='left')"
   ]
  },
  {
   "cell_type": "code",
   "execution_count": 111,
   "metadata": {},
   "outputs": [],
   "source": [
    "def recency_score(x):\n",
    "    if(0<=x<=92):\n",
    "        return 4\n",
    "    elif(92<x<=184):\n",
    "        return 3\n",
    "    elif(184<x<=275):\n",
    "        return 2\n",
    "    elif(x>275):\n",
    "        return 1"
   ]
  },
  {
   "cell_type": "code",
   "execution_count": 116,
   "metadata": {},
   "outputs": [],
   "source": [
    "rec['RECENCY_SCORE']=rec['RECENCY'].apply(lambda x:score(x))"
   ]
  },
  {
   "cell_type": "code",
   "execution_count": 120,
   "metadata": {},
   "outputs": [],
   "source": [
    "rec.drop(['count'],inplace=True,axis=1)"
   ]
  },
  {
   "cell_type": "code",
   "execution_count": 145,
   "metadata": {},
   "outputs": [],
   "source": [
    "final_df=pd.merge(freqdf[['USER_DM_ID','FREQ_SCORE']],price[['USER_DM_ID','MONETARY_SCORE']],on='USER_DM_ID').merge(rec[['USER_DM_ID','RECENCY_SCORE']],on='USER_DM_ID')"
   ]
  },
  {
   "cell_type": "code",
   "execution_count": null,
   "metadata": {},
   "outputs": [],
   "source": [
    "r * 20 + f * 50 + m * 30"
   ]
  },
  {
   "cell_type": "code",
   "execution_count": 153,
   "metadata": {},
   "outputs": [
    {
     "data": {
      "text/html": [
       "<div>\n",
       "<style scoped>\n",
       "    .dataframe tbody tr th:only-of-type {\n",
       "        vertical-align: middle;\n",
       "    }\n",
       "\n",
       "    .dataframe tbody tr th {\n",
       "        vertical-align: top;\n",
       "    }\n",
       "\n",
       "    .dataframe thead th {\n",
       "        text-align: right;\n",
       "    }\n",
       "</style>\n",
       "<table border=\"1\" class=\"dataframe\">\n",
       "  <thead>\n",
       "    <tr style=\"text-align: right;\">\n",
       "      <th></th>\n",
       "      <th>USER_DM_ID</th>\n",
       "      <th>FREQ_SCORE</th>\n",
       "      <th>MONETARY_SCORE</th>\n",
       "      <th>RECENCY_SCORE</th>\n",
       "      <th>RFM_SCORE</th>\n",
       "    </tr>\n",
       "  </thead>\n",
       "  <tbody>\n",
       "    <tr>\n",
       "      <th>0</th>\n",
       "      <td>1</td>\n",
       "      <td>1</td>\n",
       "      <td>3</td>\n",
       "      <td>3</td>\n",
       "      <td>200</td>\n",
       "    </tr>\n",
       "    <tr>\n",
       "      <th>1</th>\n",
       "      <td>3</td>\n",
       "      <td>1</td>\n",
       "      <td>3</td>\n",
       "      <td>2</td>\n",
       "      <td>180</td>\n",
       "    </tr>\n",
       "    <tr>\n",
       "      <th>2</th>\n",
       "      <td>4</td>\n",
       "      <td>1</td>\n",
       "      <td>4</td>\n",
       "      <td>2</td>\n",
       "      <td>210</td>\n",
       "    </tr>\n",
       "    <tr>\n",
       "      <th>3</th>\n",
       "      <td>5</td>\n",
       "      <td>1</td>\n",
       "      <td>3</td>\n",
       "      <td>3</td>\n",
       "      <td>200</td>\n",
       "    </tr>\n",
       "    <tr>\n",
       "      <th>4</th>\n",
       "      <td>6</td>\n",
       "      <td>1</td>\n",
       "      <td>3</td>\n",
       "      <td>2</td>\n",
       "      <td>180</td>\n",
       "    </tr>\n",
       "  </tbody>\n",
       "</table>\n",
       "</div>"
      ],
      "text/plain": [
       "   USER_DM_ID  FREQ_SCORE  MONETARY_SCORE  RECENCY_SCORE  RFM_SCORE\n",
       "0           1           1               3              3        200\n",
       "1           3           1               3              2        180\n",
       "2           4           1               4              2        210\n",
       "3           5           1               3              3        200\n",
       "4           6           1               3              2        180"
      ]
     },
     "execution_count": 153,
     "metadata": {},
     "output_type": "execute_result"
    }
   ],
   "source": [
    "final_df.head()"
   ]
  },
  {
   "cell_type": "code",
   "execution_count": 152,
   "metadata": {},
   "outputs": [],
   "source": [
    "final_df['RFM_SCORE']=final_df['FREQ_SCORE']*50 + final_df['MONETARY_SCORE']*30 + final_df['RECENCY_SCORE']*20"
   ]
  },
  {
   "cell_type": "code",
   "execution_count": 150,
   "metadata": {},
   "outputs": [],
   "source": [
    "final_df.to_excel(excel_writer=r'C:\\Users\\bhavrang\\Desktop\\bhavya\\Analytics\\NBCdata_RFMscore.xlsx')"
   ]
  }
 ],
 "metadata": {
  "kernelspec": {
   "display_name": "Python 3",
   "language": "python",
   "name": "python3"
  },
  "language_info": {
   "codemirror_mode": {
    "name": "ipython",
    "version": 3
   },
   "file_extension": ".py",
   "mimetype": "text/x-python",
   "name": "python",
   "nbconvert_exporter": "python",
   "pygments_lexer": "ipython3",
   "version": "3.7.1"
  }
 },
 "nbformat": 4,
 "nbformat_minor": 2
}
